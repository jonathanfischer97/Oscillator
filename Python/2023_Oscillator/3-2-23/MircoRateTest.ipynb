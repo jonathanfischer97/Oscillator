{
 "cells": [
  {
   "cell_type": "code",
   "execution_count": 3,
   "metadata": {},
   "outputs": [],
   "source": [
    "import numpy as np \n",
    "from scipy.integrate import odeint \n",
    "from numba import njit\n",
    "import timeit\n",
    "import matplotlib.pyplot as plt\n",
    "import numpy.fft as fft\n",
    "import math\n",
    "import peakutils"
   ]
  },
  {
   "cell_type": "code",
   "execution_count": 6,
   "metadata": {},
   "outputs": [],
   "source": [
    "@njit\n",
    "def oscillatorModelOde(Y, t, can): \n",
    "\n",
    "    y = can[-1]\n",
    "    \n",
    "\n",
    "    ka1 = can[0]\n",
    "    kb1 = can[1]\n",
    "    kcat1 = can[2]\n",
    "\n",
    "    ka2 = can[3]\n",
    "    kb2 = can[4]\n",
    "\n",
    "    ka3 = can[5]\n",
    "    kb3 = can[6]\n",
    "\n",
    "    ka4 = can[7]\n",
    "    kb4 = can[8]\n",
    "\n",
    "    ka7 = can[9]\n",
    "    kb7 = can[10]\n",
    "    kcat7 = can[11]\n",
    "\n",
    "    ka1i = can[12]\n",
    "    kb1i = can[13]\n",
    "\n",
    "    ka2i = can[14]\n",
    "    kb2i = can[15]\n",
    "\n",
    "    ka3i = can[16]\n",
    "    kb3i = can[17]\n",
    "\n",
    "    ka4i = can[18]\n",
    "    kb4i = can[19]\n",
    "\n",
    "    ka7i = can[20]\n",
    "    kb7i = can[21]\n",
    "\n",
    "    ka1y = can[22]\n",
    "    kb1y = can[23]\n",
    "\n",
    "    ka2y = can[24]\n",
    "    kb2y = can[25]\n",
    "\n",
    "    ka3y = can[26]\n",
    "    kb3y = can[27]\n",
    "\n",
    "    ka4y = can[28]\n",
    "    kb4y = can[29]\n",
    "\n",
    "    ka7y = can[30]\n",
    "    kb7y = can[31]\n",
    "\n",
    "\n",
    "\n",
    "\n",
    "    #initial conditions\n",
    "    L = Y[0]   # make sure in uM\n",
    "    Lp = Y[1]\n",
    "    K = Y[2]\n",
    "    P = Y[3]\n",
    "    A = Y[4]\n",
    "    LK = Y[5]\n",
    "    LpA = Y[6] \n",
    "    LpAK = Y[7] \n",
    "    LpAP = Y[8] \n",
    "    LpAPLp = Y[9]\n",
    "    LpAKL = Y[10] \n",
    "    LpP = Y[11] \n",
    "    AK = Y[12]\n",
    "    AKL = Y[13]\n",
    "    AP = Y[14]\n",
    "    APLp = Y[15]\n",
    "\n",
    "\n",
    "    dL = kb1i*AKL + kcat7*APLp + kb1*LK + kb1y*LpAKL + kcat7*LpAPLp + kcat7*LpP - ka1i*AK*L - ka1*K*L - ka1y*y*L*LpAK\n",
    "    dLp = kcat1*AKL + kb7i*APLp + kcat1*LK + kb2*LpA + kb2i*LpAK + kb2y*LpAKL + kcat1*LpAKL + kb2i*LpAP + kb2y*LpAPLp + kb7y*LpAPLp + kb7*LpP - ka2*A*Lp - ka2i*AK*Lp - ka2i*AP*Lp - ka7i*AP*Lp - ka7*Lp*P - ka2y*y*AKL*Lp - ka2y*y*APLp*Lp - ka7y*y*Lp*LpAP\n",
    "    dK = kb1*LK + kb3*LpAK + kb3i*AK + kcat1*LK - ka3i*A*K - ka1*K*L - ka3*K*LpA\n",
    "    dP = kb4i*AP + kb4*LpAP + kb7*LpP + kcat7*LpP - ka4i*A*P - ka7*Lp*P - ka4*LpA*P\n",
    "    dA = kb3*AKL + kb2*LpA + kb3i*AK + kb4*APLp + kb4i*AP - ka3i*A*K - ka2*A*Lp - ka3*A*LK - ka4*A*LpP - ka4i*A*P\n",
    "    dLK = kb3*AKL + kb3y*LpAKL + ka1*K*L - kb1*LK - kcat1*LK - ka3*A*LK - ka3y*y*LK*LpA\n",
    "    dLpA = kb3*LpAK + kb3y*LpAKL + kb4*LpAP + kb4y*LpAPLp + ka2*A*Lp - kb2*LpA - ka3*K*LpA - ka4*LpA*P - ka3y*y*LK*LpA - ka4y*y*LpA*LpP\n",
    "    dLpAK = kb1y*LpAKL + kcat1*LpAKL + ka2i*AK*Lp + ka3*K*LpA - kb2i*LpAK - kb3*LpAK - ka1y*y*L*LpAK\n",
    "    dLpAP = kb7y*LpAPLp + kcat7*LpAPLp + ka2i*AP*Lp + ka4*LpA*P - kb2i*LpAP - kb4*LpAP - ka7y*y*Lp*LpAP\n",
    "    dLpAPLp = ka2y*y*APLp*Lp + ka7y*y*Lp*LpAP + ka4y*y*LpA*LpP - kb2y*LpAPLp - kb4y*LpAPLp - kb7y*LpAPLp - kcat7*LpAPLp\n",
    "    dLpAKL = ka2y*y*AKL*Lp + ka3y*y*LK*LpA + ka1y*y*L*LpAK - kb1y*LpAKL - kb2y*LpAKL - kb3y*LpAKL - kcat1*LpAKL\n",
    "    dLpP = kb4*APLp + kb4y*LpAPLp + ka7*Lp*P - kb7*LpP - kcat7*LpP - ka4*A*LpP - ka4y*y*LpA*LpP\n",
    "    dAK = kb1i*AKL + kb2i*LpAK + kcat1*AKL + ka3i*A*K - kb3i*AK - ka1i*AK*L - ka2i*AK*Lp\n",
    "    dAKL = kb2y*LpAKL + ka1i*AK*L + ka3*A*LK - kb1i*AKL - kb3*AKL - kcat1*AKL - ka2y*y*AKL*Lp\n",
    "    dAP = kb7i*APLp + kcat7*APLp + kb2i*LpAP + ka4i*A*P - kb4i*AP - ka2i*AP*Lp - ka7i*AP*Lp\n",
    "    dAPLp = kb2y*LpAPLp + ka7i*AP*Lp + ka4*A*LpP - kb4*APLp - kb7i*APLp - kcat7*APLp - ka2y*y*APLp*Lp\n",
    "\n",
    "\n",
    "    return([dL, dLp, dK, dP, dA, dLK, dLpA, dLpAK, dLpAP, dLpAPLp, dLpAKL, dLpP, dAK, dAKL, dAP, dAPLp])\t"
   ]
  },
  {
   "cell_type": "code",
   "execution_count": 4,
   "metadata": {},
   "outputs": [],
   "source": [
    "t = np.linspace(0, 100, 10000)\n",
    "Y0 = np.array([0,3.,1.,0.8,2,0,0,0,0,0,0,0,0,0,0,0])\n",
    "input = {'ka1': 0.001, 'kb1': 0.016466893897328572, 'kcat1': 5.138028633784708, 'ka2': 15.262883943812058, 'kb2': 1.7044137475243337, 'ka3': 0.001, 'kb3': 0.002859269208069338, 'ka4': 0.004192560991030677, 'kb4': 0.14259322541376293, 'ka7': 0.13867125186434642, 'kb7': 0.005535045570509145, 'kcat7': 0.857806952449775, 'VA': 10000.0}\n",
    "can = np.array([x for x in input.values()])"
   ]
  },
  {
   "cell_type": "code",
   "execution_count": 9,
   "metadata": {},
   "outputs": [],
   "source": [
    "def calc_D(product):\n",
    "    # Define a dictionary of diffusion constants for each of the substrates\n",
    "    Ddict = {\"L\": [0.5,0.5,0.0], \"K\": [25.0,25.0,25.0], \"P\": [25.0,25.0,25.0], \"A\": [25.0,25.0,25.0]}\n",
    "    # Filter out the \"p\" character and split the product string into individual characters\n",
    "    substrings = [c for c in product if c != \"p\"]\n",
    "\n",
    "    # Initialize a list to store the average diffusion constants\n",
    "    avg_Ds = []\n",
    "\n",
    "    # Loop over the substrings and compute the average diffusion constant for each one\n",
    "    for substring in substrings:\n",
    "        # Use the substring as a key to access the diffusion constant value in the Ddict dictionary\n",
    "        Dvals = Ddict[substring]\n",
    "\n",
    "        # Compute the average diffusion constant over the x, y, and z directions\n",
    "        avg_D = sum(Dvals) / 3\n",
    "\n",
    "        # Append the average diffusion constant to the list\n",
    "        avg_Ds.append(avg_D)\n",
    "\n",
    "    # Compute the average relative diffusion constant over all the substrings\n",
    "    avg_rel_D = sum(avg_Ds) / len(avg_Ds)\n",
    "\n",
    "    # Return the result\n",
    "    return avg_rel_D\n"
   ]
  },
  {
   "cell_type": "code",
   "execution_count": null,
   "metadata": {},
   "outputs": [],
   "source": [
    "def convert_constants(input_arr, Darray):\n",
    "    output_arr = np.zeros(3*len(input_arr)//2 + 3)\n",
    "    output_arr[::3] = input_arr[::2]  # copy ka constants as-is\n",
    "    kcat_indices = [2, 5, 7, 10]\n",
    "    output_arr[kcat_indices] = input_arr[kcat_indices]  # copy kcat constants as-is\n",
    "\n",
    "    for i, ka in enumerate(input_arr[::2]):\n",
    "        ka_y = convert_ka(ka, Darray[i])\n",
    "        ka_i = convert_ka(ka, 1/Darray[i])\n",
    "        output_arr[3*i + 1] = ka_y\n",
    "        output_arr[3*i + 2] = ka_i\n",
    "\n",
    "    kb_dict = {1: (2, 0), 2: (5, 3), 3: (7, 6), 4: (9, 8), 7: (12, 11)}\n",
    "    for i, (kb_index, ka_index) in kb_dict.items():\n",
    "        kb = input_arr[kb_index]\n",
    "        ka = output_arr[3*ka_index]\n",
    "        kb_y = convert_kb(kb, ka, input_arr[2*i-1])\n",
    "        kb_i = convert_kb(kb, ka, input_arr[2*i])\n",
    "        output_arr[3*i] = kb\n",
    "        output_arr[3*i + 1] = kb_y\n",
    "        output_arr[3*i + 2] = kb_i\n",
    "\n",
    "    return output_arr\n"
   ]
  },
  {
   "cell_type": "code",
   "execution_count": 5,
   "metadata": {},
   "outputs": [
    {
     "data": {
      "text/plain": [
       "array([1.00000000e-03, 1.64668939e-02, 5.13802863e+00, 1.52628839e+01,\n",
       "       1.70441375e+00, 1.00000000e-03, 2.85926921e-03, 4.19256099e-03,\n",
       "       1.42593225e-01, 1.38671252e-01, 5.53504557e-03, 8.57806952e-01,\n",
       "       1.00000000e+04])"
      ]
     },
     "execution_count": 5,
     "metadata": {},
     "output_type": "execute_result"
    }
   ],
   "source": [
    "rxn_map = {\"LK\": [0,1], \"LpA\": [3,4], \"LpAK\": [5,6], \"LpAP\": [7,8], \"LpP\": [9,10], \"AKL\": [12,13], \"LpAK\": [14,15], \"AK\": [16,17], \"\"}"
   ]
  },
  {
   "cell_type": "code",
   "execution_count": 45,
   "metadata": {},
   "outputs": [],
   "source": [
    "def getFrequencies(y):\n",
    "    T = 100 #seconds\n",
    "    dt = 0.01 #seconds\n",
    "    #fft sample rate: 1 sample per 5 minutes \n",
    "    res = abs(fft.rfft(y))\n",
    "    #normalize the amplitudes \n",
    "    res = res/math.ceil((T/dt)/2) \n",
    "    return res"
   ]
  },
  {
   "cell_type": "code",
   "execution_count": 47,
   "metadata": {},
   "outputs": [
    {
     "data": {
      "text/plain": [
       "array([3.25234087e+00, 5.10306209e-01, 8.65319522e-01, ...,\n",
       "       6.14393562e-05, 6.14393474e-05, 6.14393436e-05])"
      ]
     },
     "execution_count": 47,
     "metadata": {},
     "output_type": "execute_result"
    }
   ],
   "source": [
    "sol = odeint(oscillatorModelOdeNumba, Y0, t, args=(can,))\n",
    "fftData = getFrequencies(sol[:,0])\n",
    "fftData\n"
   ]
  },
  {
   "cell_type": "code",
   "execution_count": 34,
   "metadata": {},
   "outputs": [
    {
     "data": {
      "text/plain": [
       "[<matplotlib.lines.Line2D at 0x7f04f61c7d90>]"
      ]
     },
     "execution_count": 34,
     "metadata": {},
     "output_type": "execute_result"
    },
    {
     "data": {
      "image/png": "[encoded data removed]",
      "text/plain": [
       "<Figure size 432x288 with 1 Axes>"
      ]
     },
     "metadata": {
      "needs_background": "light"
     },
     "output_type": "display_data"
    }
   ],
   "source": [
    "plt.plot(t, sol[:,0])"
   ]
  },
  {
   "cell_type": "code",
   "execution_count": 44,
   "metadata": {},
   "outputs": [
    {
     "data": {
      "text/plain": [
       "[<matplotlib.lines.Line2D at 0x7f04f6079580>]"
      ]
     },
     "execution_count": 44,
     "metadata": {},
     "output_type": "execute_result"
    },
    {
     "data": {
      "image/png": "[encoded data removed]",
      "text/plain": [
       "<Figure size 432x288 with 1 Axes>"
      ]
     },
     "metadata": {
      "needs_background": "light"
     },
     "output_type": "display_data"
    }
   ],
   "source": [
    "#plot the frequencies\n",
    "plt.plot(fftData)"
   ]
  },
  {
   "cell_type": "code",
   "execution_count": 50,
   "metadata": {},
   "outputs": [
    {
     "data": {
      "text/plain": [
       "array([2])"
      ]
     },
     "execution_count": 50,
     "metadata": {},
     "output_type": "execute_result"
    }
   ],
   "source": [
    "indexes = peakutils.indexes(fftData, thres=0.02, min_dist=1, thres_abs = False) \n",
    "indexes"
   ]
  },
  {
   "cell_type": "code",
   "execution_count": 55,
   "metadata": {},
   "outputs": [],
   "source": [
    "def getDif(indexes, arrayData):\t\n",
    "    arrLen = len(indexes)\n",
    "    sum = 0\n",
    "    for i, ind in enumerate(indexes):\n",
    "        if i == arrLen - 1:\n",
    "            break\n",
    "        sum += arrayData[ind] - arrayData[indexes[i + 1]]\n",
    "        \n",
    "    #add last peak - same as substracting it from zero \n",
    "    sum += arrayData[indexes[-1]]  \n",
    "    return sum   \n",
    "    \n",
    "#gets standard deviation \n",
    "def getSTD(indexes, arrayData, window):\n",
    "    numPeaks = len(indexes)\n",
    "    arrLen = len(arrayData)\n",
    "    sum = 0\n",
    "    for ind in indexes:\n",
    "        minInd = max(0, ind - window)\n",
    "        maxInd = min(arrLen, ind + window)\n",
    "        sum += np.std(arrayData[minInd:maxInd])  \n",
    "        \n",
    "    sum = sum/numPeaks \t\n",
    "    return sum\t \n",
    "\n",
    "def getFrequencies(y):\n",
    "    T = 100 #seconds\n",
    "    dt = 0.01 #seconds\n",
    "    #fft sample rate: 1 sample per 5 minutes \n",
    "    res = abs(fft.rfft(y))\n",
    "    #normalize the amplitudes \n",
    "    res = res/math.ceil((T/dt)/2) \n",
    "    return res\n",
    "\n",
    "def costTwo(Y): #Y is a 2D solution array with the time series of the variables from odeint\n",
    "    p1 = Y[:,6] \n",
    "    fftData = getFrequencies(p1)      \n",
    "\n",
    "    indexes = peakutils.indexes(fftData, thres=0.02, min_dist=1, thres_abs = False) \n",
    "\n",
    "    #in case of no oscillations return 0 \n",
    "    if len(indexes) == 0: \n",
    "        return 0.,  \t\t\n",
    "    std = getSTD(indexes, fftData, 1)  \n",
    " \n",
    "    diff = getDif(indexes, fftData)  \n",
    "   \n",
    "    cost = std + diff \n",
    "  \n",
    "    return cost,"
   ]
  },
  {
   "cell_type": "code",
   "execution_count": 56,
   "metadata": {},
   "outputs": [
    {
     "name": "stdout",
     "output_type": "stream",
     "text": [
      "<class 'numpy.float64'>\n",
      "<class 'numpy.float64'>\n"
     ]
    },
    {
     "data": {
      "text/plain": [
       "(0.7308849523244785,)"
      ]
     },
     "execution_count": 56,
     "metadata": {},
     "output_type": "execute_result"
    }
   ],
   "source": [
    "costTwo(sol)"
   ]
  },
  {
   "cell_type": "code",
   "execution_count": 58,
   "metadata": {},
   "outputs": [
    {
     "data": {
      "text/plain": [
       "array([2012, 7910])"
      ]
     },
     "execution_count": 58,
     "metadata": {},
     "output_type": "execute_result"
    }
   ],
   "source": [
    "peakutils.indexes(sol[:,0], thres=0.02, min_dist=1, thres_abs = False)"
   ]
  },
  {
   "cell_type": "code",
   "execution_count": null,
   "metadata": {},
   "outputs": [],
   "source": []
  }
 ],
 "metadata": {
  "kernelspec": {
   "display_name": "oscillations",
   "language": "python",
   "name": "python3"
  },
  "language_info": {
   "codemirror_mode": {
    "name": "ipython",
    "version": 3
   },
   "file_extension": ".py",
   "mimetype": "text/x-python",
   "name": "python",
   "nbconvert_exporter": "python",
   "pygments_lexer": "ipython3",
   "version": "3.9.13"
  },
  "orig_nbformat": 4,
  "vscode": {
   "interpreter": {
    "hash": "0ba553ac07e3797aeb3406af30e7e504b77aec9043e6a7c97bb9f6cb7945cf6a"
   }
  }
 },
 "nbformat": 4,
 "nbformat_minor": 2
}
