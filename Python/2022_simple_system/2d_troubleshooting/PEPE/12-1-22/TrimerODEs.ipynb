{
 "cells": [
  {
   "cell_type": "code",
   "execution_count": 23,
   "metadata": {},
   "outputs": [],
   "source": [
    "import numpy as np\n",
    "import matplotlib.pyplot as plt\n",
    "from scipy.integrate import solve_ivp\n",
    "import pickle"
   ]
  },
  {
   "cell_type": "code",
   "execution_count": 236,
   "metadata": {},
   "outputs": [],
   "source": [
    "def oscillatorModelOde(t, Y, can): \n",
    "\n",
    "    VA = can[-1]\n",
    "    \n",
    "    sigma = 0.001\n",
    "\n",
    "    ka1 = can[0]\n",
    "    kb1 = can[1]\n",
    "    kcat1 = can[2]\n",
    "\n",
    "    ka2 = can[3]\n",
    "    kb2 = can[4]\n",
    "\n",
    "    ka3 = can[5]\n",
    "    kb3 = can[6]\n",
    "\n",
    "    ka4 = can[7]\n",
    "    kb4 = can[8]\n",
    "\n",
    "    ka7 = can[9]\n",
    "    kb7 = can[10]\n",
    "    kcat7 = can[11]\n",
    "\n",
    "    ka5 = can[9]\n",
    "    kb5 = can[10]\n",
    "    kcat5 = can[11]\n",
    "\n",
    "    ka6 = can[0]\n",
    "    kb6 = can[1]\n",
    "    kcat6 = can[2]\n",
    "\n",
    "    ka8 = can[12]\n",
    "    kb8 = can[13]\n",
    "\n",
    "\n",
    "    ka1m = can[14]\n",
    "    kb1m = can[15]\n",
    "\n",
    "    ka2m = can[16]\n",
    "    kb2m = can[17]\n",
    "    \n",
    "    ka3m = can[18]\n",
    "    kb3m = can[19]\n",
    "    \n",
    "    ka4m = can[20]\n",
    "    kb4m = can[21]\n",
    "\n",
    "    ka5m = can[22]\n",
    "    kb5m = can[23]\n",
    "\n",
    "    ka6m = can[24]\n",
    "    kb6m = can[25]\n",
    "\n",
    "    ka7m = can[26]\n",
    "    kb7m = can[27]\n",
    "\n",
    "    ka8m = can[28]\n",
    "    kb8m = can[29]\n",
    "\n",
    "    ka9m = can[30]\n",
    "    kb9m = can[31]\n",
    "\n",
    "    ka10m = can[32]\n",
    "    kb10m = can[33]\n",
    "\n",
    "    ka11m = can[34]\n",
    "    kb11m = can[35]\n",
    "\n",
    "    ka12m = can[36]\n",
    "    kb12m = can[37]\n",
    "\n",
    "    ka13m = can[38]\n",
    "    kb13m = can[39]\n",
    "\n",
    "    ka14m = can[40]\n",
    "    kb14m = can[41]\n",
    "\n",
    "    #initial conditions\n",
    "    L = Y[0]   # make sure in uM\n",
    "    Lp = Y[1]\n",
    "    K = Y[2]\n",
    "    P = Y[3]\n",
    "    LK = Y[4] \n",
    "    A = Y[5]\n",
    "    LpA = Y[6] \n",
    "    LpAK = Y[7] \n",
    "    LpAP = Y[8] \n",
    "    LpAPLp = Y[9] \n",
    "    LpAKL = Y[10] \n",
    "    LpP = Y[11] \n",
    "\n",
    "    T = Y[12]\n",
    "    X = Y[13]\n",
    "    B = Y[14]\n",
    "    C = Y[15]\n",
    "    D = Y[16]\n",
    "    XB = Y[17]\n",
    "    XC = Y[18]\n",
    "    XD = Y[19]\n",
    "    XBC = Y[20]\n",
    "    XXBC = Y[21]\n",
    "    XBD = Y[22]\n",
    "    XXBD = Y[23]\n",
    "    XCD = Y[24]\n",
    "    XXCD = Y[25]\n",
    "    XBCD = Y[26]\n",
    "    XXBCD = Y[27]\n",
    "    XXXBCD = Y[28]\n",
    "\n",
    "\n",
    "    dL = (kb1*LK) - (ka1*L*K) + (kcat5*LpAPLp) + (kb6*LpAKL) - ((VA/(sigma))*ka6*LpAK*L) + (kcat7*LpP)\n",
    "    dLp = (kcat1*LK) + (kb2*LpA) - (ka2*Lp*A) + (kb5*LpAPLp) - ((VA/(sigma))*ka5*Lp*LpAP) + (kcat6*LpAKL) - (ka7*Lp*P) + (kb7*LpP)\n",
    "    dK = (kb1*LK) - (ka1*L*K) + (kcat1*LK) + (kb3*LpAK) - (ka3*LpA*K)\n",
    "    dP = (kb4*LpAP) - (ka4*LpA*P) - (ka7*Lp*P) + (kb7*LpP) + (kcat7*LpP)\n",
    "    dLK = (ka1*L*K) - (kb1*LK) - (kcat1*LK)\n",
    "    dA = (kb2*LpA) - (ka2*Lp*A)\n",
    "    dLpA = (ka2*Lp*A) - (kb2*LpA) + (kb3*LpAK) - (ka3*LpA*K) + (kb4*LpAP) - (ka4*LpA*P) - (ka8*LpA*T) + (kb8*X)\n",
    "    dLpAK = (ka3*LpA*K) - (kb3*LpAK) + (kb6*LpAKL) - ((VA/(sigma))*ka6*LpAK*L) + (kcat6*LpAKL)\n",
    "    dLpAP = (ka4*LpA*P) - (kb4*LpAP) + (kb5*LpAPLp) - ((VA/(sigma))*ka5*LpAP*Lp) + (kcat5*LpAPLp)\n",
    "    dLpAPLp = ((VA/(sigma))*ka5*LpAP*Lp) - (kb5*LpAPLp) - (kcat5*LpAPLp)\n",
    "    dLpAKL = ((VA/(sigma))*ka6*LpAK*L) - (kb6*LpAKL) - (kcat6*LpAKL)\n",
    "    dLpP = (ka7*Lp*P) - (kb7*LpP) - (kcat7*LpP)\n",
    "\n",
    "    dT = (kb8*X) - (ka8*LpA*T)\n",
    "\n",
    "\n",
    "    dX = (ka8*LpA*T) - (kb8*X) - (ka1m*X*B) + (kb1m*XB) - (ka2m*X*C) + (kb2m*XC) - (ka3m*X*D) + (kb3m*XD) - ((VA/sigma)*ka10m*XBC*X) + (kb10m*XXBC) - ((VA/sigma)*ka11m*XBD*X) + (kb11m*XXBD) - ((VA/sigma)*ka12m*XCD*X) + (kb12m*XXCD) - ((VA/sigma)*ka13m*XBCD*X) + (kb13m*XXBCD) - ((VA/sigma)*ka14m*XXBCD*X) + (kb14m*XXXBCD)\n",
    "\n",
    "    dB = (kb1m*XB) - (ka1m*X*B) + (kb4m*XBC) - (ka4m*XC*B) + (kb5m*XBD) - (ka5m*XD*B) + (kb9m*XBCD) - (ka9m*XCD*B) + (kb9m*XXBCD) - (ka9m*XXCD*B) \n",
    "    dC = (kb2m*XC) - (ka2m*X*C) + (kb4m*XBC) - (ka4m*XB*C) + (kb8m*XBCD) - (ka8m*XBD*C) + (kb8m*XXBCD) - (ka8m*XXBD*C) + (kb6m*XCD) - (ka6m*XD*C) \n",
    "    dD = (kb3m*XD) - (ka3m*X*D) + (kb7m*XBCD) - (ka7m*XBC*D) + (kb7m*XXBCD) - (ka7m*XXBC*D) + (kb5m*XBD) - (ka5m*XB*D) + (kb6m*XCD) - (ka6m*XC*D)\n",
    "\n",
    "    dXB = (ka1m*X*B) - (kb1m*XB) - (ka4m*XB*C) + (kb4m*XBC) - ((VA/sigma)*ka4m*XB*XC) + (kb4m*XXBC) - (ka5m*XB*D) + (kb5m*XBD) - ((VA/sigma)*ka5m*XB*XD) + (kb5m*XXBD)\n",
    "    dXC = (ka2m*X*C) - (kb2m*XC) - (ka4m*XC*B) + (kb4m*XBC) - (ka6m*XC*D) + (kb6m*XCD) - ((VA/sigma)*ka6m*XC*XD) + (kb6m*XXCD) - ((VA/sigma)*ka4m*XB*XC) + (kb4m*XXBC)\n",
    "    dXD = (ka3m*X*D) - (kb2m*XD) - ((VA/sigma)*ka7m*XXBC*XD) + (kb7m*XXXBCD) - (ka5m*XD*B) + (kb5m*XXBD) - ((VA/sigma)*ka5m*XB*XD) + (kb5m*XXBD) - ((VA/sigma)*ka6m*XC*XD) + (kb6m*XXCD) - (ka6m*XD*C) + (kb6m*XCD)\n",
    "\n",
    "    dXBC = (ka4m*XB*C) - (kb4m*XBC) + (ka4m*XC*B) - (kb4m*XBC) - (ka7m*XBC*D) + (kb7m*XBCD) - ((VA/sigma)*ka10m*XBC*X) + (kb10m*XXBC)\n",
    "    dXXBC = ((VA/sigma)*ka4m*XB*XC) - (kb4m*XXBC) - (ka7m*XXBC*D) + (kb7m*XXBCD) - ((VA/sigma)*ka7m*XXBC*XD) + (kb7m*XXXBCD) - (kb10m*XXBC) + ((VA/sigma)*ka10m*XBC*X) \n",
    "\n",
    "    dXBD = (ka5m*XB*D) - (kb5m*XBD) + (ka5m*XD*B) - (kb5m*XBD) - (ka8m*XBD*C) + (kb8m*XBCD) - ((VA/sigma)*ka11m*XBD*X) - (kb11m*XXBD) \n",
    "    dXXBD = ((VA/sigma)*ka5m*XB*XD) - (kb5m*XXBD) - (ka8m*XXBD*C) + (kb8m*XXBCD) - ((VA/sigma)*ka8m*XXBD*XC) + (kb8m*XXXBCD) - (kb11m*XXBD) + ((VA/sigma)*ka11m*XBD*X)\n",
    "    \n",
    "    dXCD = (ka6m*XC*D) - (kb6m*XCD) + (ka6m*XD*C) - (kb6m*XCD) - (ka9m*XCD*B) + (kb9m*XBCD) - ((VA/sigma)*ka12m*XCD*X) + (kb12m*XXCD) \n",
    "    dXXCD = ((VA/sigma)*ka6m*XC*XD) - (kb6m*XXCD) - (ka9m*XXCD*B) + (kb9m*XXBCD) - ((VA/sigma)*ka9m*XXCD*XB) + (kb9m*XXXBCD) - (kb12m*XXCD) + ((VA/sigma)*ka12m*XCD*X)\n",
    "\n",
    "    dXBCD = (ka7m*XBC*D) - (kb7m*XBCD) + (ka8m*XBD*C) - (kb8m*XBCD) + (ka9m*XCD*B) - (kb9m*XBCD) - ((VA/sigma)*ka13m*XBCD*X) + (kb13m*XXBCD)\n",
    "    dXXBCD = (ka7m*XXBC*D) - (kb7m*XXBCD) + (ka8m*XXBD*C) - (kb8m*XXBCD) + (ka9m*XXCD*B) - (kb9m*XXBCD) + ((VA/sigma)*ka13m*XBCD*X) - (kb13m*XXBCD) - (ka14m*XXBCD*X) + (kb14m*XXXBCD)\n",
    "    dXXXBCD = ((VA/sigma)*ka7m*XXBCD*XD) - (kb7m*XXXBCD) + ((VA/sigma)*ka8m*XXBD*XC) - (kb8m*XXXBCD) + ((VA/sigma)*ka9m*XXCD*XB) - (kb9m*XXXBCD) + ((VA/sigma)*ka14m*XXBCD*X) - (kb14m*XXXBCD)\n",
    "\n",
    "\n",
    "    return([dL, dLp, dK, dP, dLK, dA, dLpA, dLpAK, dLpAP, dLpAPLp, dLpAKL, dLpP, dT, dX, dB, dC, dD, dXB, dXC, dXD, dXBC, dXXBC, dXBD, dXXBD, dXCD, dXXCD, dXBCD, dXXBCD, dXXXBCD])\t"
   ]
  },
  {
   "cell_type": "code",
   "execution_count": 256,
   "metadata": {},
   "outputs": [],
   "source": [
    "s = 20 #range in seconds that you want to run simulation over\n",
    "t = np.linspace(0, s, num=10000)\n",
    "\n",
    "varnames = [\"L\",\"Lp\",\"K\",\"P\",\"LK\",\"A\",\"LpA\",\"LpAK\",\"LpAP\",\"LpAPLp\",\"LpAKL\",\"LpP\",\"T\",\"X\",\"B\",\"C\",\"D\",\"XB\",\"XC\",\"XD\",\"XBC\",\"XXBC\",\"XBD\",\"XXBD\",\"XCD\",\"XXCD\",\"XBCD\",\"XXBCD\",\"XXXBCD\"]\n",
    "initial_populations = np.append(np.array([0,3,0.2,0.3,0,3,0,0,0,0,0,0,2,1]),(np.zeros((29-14))))\n",
    "\n",
    "initdict = {k:v for k,v in zip(varnames,initial_populations)}\n",
    "initdict['B'] = 1\n",
    "initdict['C'] = 1\n",
    "initdict['D'] = 1 \n",
    "initdict['L'] = 10"
   ]
  },
  {
   "cell_type": "code",
   "execution_count": 257,
   "metadata": {},
   "outputs": [
    {
     "data": {
      "text/plain": [
       "{'ka1': 0.3240340166714304,\n",
       " 'kb1': 20.795953506145654,\n",
       " 'kcat1': 45.52042965131187,\n",
       " 'ka2': 0.5603915744791075,\n",
       " 'kb2': 3.3172192866882657,\n",
       " 'ka3': 83.94876581174081,\n",
       " 'kb3': 175.96956578893014,\n",
       " 'ka4': 0.34842896631763337,\n",
       " 'kb4': 0.39307008205227123,\n",
       " 'ka7': 0.40519789601959216,\n",
       " 'kb7': 11.59142670148831,\n",
       " 'kcat7': 27.056056195889592,\n",
       " 'ka8': 0.2,\n",
       " 'kb8': 100.0,\n",
       " 'ka1m': 0.00122601748906234,\n",
       " 'kb1m': 45.140515168616645,\n",
       " 'ka2m': 0.006114184228622612,\n",
       " 'kb2m': 75.22300809985222,\n",
       " 'ka3m': 0.0026103167568115593,\n",
       " 'kb3m': 52.47137592654209,\n",
       " 'ka4m': 0.002589163004658822,\n",
       " 'kb4m': 32.31798531962355,\n",
       " 'ka5m': 0.0022606438544385166,\n",
       " 'kb5m': 56.08204422145464,\n",
       " 'ka6m': 0.0053409222782165675,\n",
       " 'kb6m': 32.852885202370096,\n",
       " 'ka7m': 0.004636113804501213,\n",
       " 'kb7m': 80.69274343347871,\n",
       " 'ka8m': 0.004612710714498978,\n",
       " 'kb8m': 79.66548890985959,\n",
       " 'ka9m': 0.00033810425016712496,\n",
       " 'kb9m': 42.73612055553747,\n",
       " 'ka10m': 0.00981924758293218,\n",
       " 'kb10m': 42.94505627359825,\n",
       " 'ka11m': 0.0040347497727857805,\n",
       " 'kb11m': 38.72646125902034,\n",
       " 'ka12m': 0.0019274342369170062,\n",
       " 'kb12m': 14.329986842681508,\n",
       " 'ka13m': 0.00508481714581127,\n",
       " 'kb13m': 54.32301369059073,\n",
       " 'ka14m': 0.008307013834949568,\n",
       " 'kb14m': 8.303644316870695,\n",
       " 'VA': 1.1509910747878143}"
      ]
     },
     "execution_count": 257,
     "metadata": {},
     "output_type": "execute_result"
    }
   ],
   "source": [
    "viablePoints = pickle.load(open('/home/local/WIN/jfisch27/Desktop/Oscillator/Python/2022_simple_system/2d_troubleshooting/PEPE/8-24-22/Auto_Region0000ViableSet_Iter10.p','rb'))\n",
    "fixedparams = viablePoints[1]\n",
    "\n",
    "fixedparams = np.insert(fixedparams,-1, [0.2,100])\n",
    "fixedparams = np.insert(fixedparams, -1, np.random.uniform(0.,100.,28))\n",
    "fixedparams\n",
    "\n",
    "parnames = ['ka1', 'kb1', 'kcat1', 'ka2', 'kb2', 'ka3', 'kb3', 'ka4', 'kb4', 'ka7', 'kb7', 'kcat7', 'ka8', 'kb8', 'ka1m', 'kb1m', 'ka2m', 'kb2m', 'ka3m', 'kb3m', 'ka4m', 'kb4m', 'ka5m', 'kb5m', 'ka6m',\n",
    "             'kb6m', 'ka7m', 'kb7m', 'ka8m', 'kb8m', 'ka9m', 'kb9m', 'ka10m', 'kb10m', 'ka11m', 'kb11m', 'ka12m', 'kb12m', 'ka13m', 'kb13m', 'ka14m', 'kb14m', 'VA']\n",
    "pardict = {k:v for k,v in zip(parnames,fixedparams)}\n",
    "\n",
    "for k in list(pardict.keys())[14:]:\n",
    "    if 'ka' in k:\n",
    "        pardict[k] = np.random.uniform(0.,0.01)\n",
    "\n",
    "pardict"
   ]
  },
  {
   "cell_type": "code",
   "execution_count": 258,
   "metadata": {},
   "outputs": [],
   "source": [
    "# pardict['ka1m'] = 1000.\n",
    "# pardict['ka2m'] = 1000. \n",
    "# pardict['ka3m'] = 1000.\n",
    "# pardict['kb8'] = 0.\n",
    "# pardict['VA'] = 0.1"
   ]
  },
  {
   "cell_type": "code",
   "execution_count": 259,
   "metadata": {},
   "outputs": [
    {
     "data": {
      "text/plain": [
       "<matplotlib.legend.Legend at 0x7f02392b4190>"
      ]
     },
     "execution_count": 259,
     "metadata": {},
     "output_type": "execute_result"
    },
    {
     "data": {
      "image/png": "[encoded data removed]",
      "text/plain": [
       "<Figure size 1600x800 with 1 Axes>"
      ]
     },
     "metadata": {
      "needs_background": "light"
     },
     "output_type": "display_data"
    }
   ],
   "source": [
    "sol = solve_ivp(fun=oscillatorModelOde,method='BDF', t_span=(0, 10), y0=list(initdict.values()), args=(list(pardict.values()),),\n",
    "            rtol=1e-6, atol=1e-9)\n",
    "solutions = sol.y\n",
    "\n",
    "#Plot the two population counts over time\n",
    "#########################################\n",
    "fig = plt.figure(figsize=(8,4),dpi=200)\n",
    "\n",
    "# plt.plot(sol.t,solutions[0,:], color=\"b\", label = 'L')\n",
    "# plt.plot(t,solutions[1,:], color=\"orange\", label = 'Lp')\n",
    "# plt.plot(t,solutions[2,:], color=\"r\", label = 'K')\n",
    "# plt.plot(t,solutions[3,:], color=\"purple\", label = 'LK')\n",
    "# plt.plot(t,solutions[4,:], color=\"g\", label = 'A')\n",
    "# plt.plot(t,solutions[5,:], color=\"brown\", label = 'LpA')\n",
    "# plt.plot(t,solutions[6,:], color=\"pink\", label = 'LpAK')\n",
    "# plt.plot(t,solutions[7,:], color=\"black\", label = 'LpAKL')\n",
    "# plt.plot(t,solutions[8,:], color=\"grey\", label = 'P')\n",
    "# plt.plot(t,solutions[9,:], color=\"yellow\", label = 'LpP')\n",
    "# plt.plot(t,solutions[10,:], color=\"cyan\", label = 'LpAP')\n",
    "# plt.plot(t,solutions[13,:], color=\"magenta\", label = 'LpAT (X)')\n",
    "plt.plot(sol.t,solutions[17,:], color=\"cyan\", label = 'XB')\n",
    "plt.plot(sol.t,solutions[18,:], color=\"orange\", label = 'XC')\n",
    "\n",
    "plt.plot(sol.t,solutions[20,:], color=\"darkviolet\", label = 'XBC')\n",
    "plt.plot(sol.t,solutions[-1,:], color=\"r\", label = 'XXXBCD')\n",
    "\n",
    "\n",
    "\n",
    "\n",
    "\n",
    "plt.xlabel('Time (s)')\n",
    "plt.ylabel('Concentration (uM)')\n",
    "plt.legend()"
   ]
  },
  {
   "cell_type": "code",
   "execution_count": 235,
   "metadata": {},
   "outputs": [
    {
     "data": {
      "text/plain": [
       "array([[0.00000000e+00, 3.47874200e-14, 1.09793104e-13, ...,\n",
       "        4.33391017e+00, 4.33391017e+00, 4.33391017e+00],\n",
       "       [3.00000000e+00, 2.99999938e+00, 2.99999877e+00, ...,\n",
       "        2.30985144e+00, 2.30985144e+00, 2.30985144e+00],\n",
       "       [2.00000000e-01, 2.00000000e-01, 2.00000000e-01, ...,\n",
       "        1.23844766e-01, 1.23844766e-01, 1.23844766e-01],\n",
       "       ...,\n",
       "       [0.00000000e+00, 5.47496442e-26, 2.36087508e-25, ...,\n",
       "        1.85007394e+14, 1.87527394e+14, 1.90099234e+14],\n",
       "       [0.00000000e+00, 4.55029532e-30, 2.60681501e-29, ...,\n",
       "        1.69250585e+22, 1.72720414e+22, 1.76285742e+22],\n",
       "       [0.00000000e+00, 9.99997188e-35, 9.27503528e-34, ...,\n",
       "        2.78718433e+29, 2.86363086e+29, 2.94271639e+29]])"
      ]
     },
     "execution_count": 235,
     "metadata": {},
     "output_type": "execute_result"
    }
   ],
   "source": [
    "solutions"
   ]
  },
  {
   "cell_type": "code",
   "execution_count": 9,
   "metadata": {},
   "outputs": [
    {
     "data": {
      "text/plain": [
       "array([ 1,  2,  3,  4, 10, 12,  5])"
      ]
     },
     "execution_count": 9,
     "metadata": {},
     "output_type": "execute_result"
    }
   ],
   "source": [
    "a = np.array([1,2,3,4,5])\n",
    "np.insert(a,-1,[10,12])"
   ]
  },
  {
   "cell_type": "code",
   "execution_count": 12,
   "metadata": {},
   "outputs": [
    {
     "data": {
      "text/plain": [
       "array([0., 0., 0.])"
      ]
     },
     "execution_count": 12,
     "metadata": {},
     "output_type": "execute_result"
    }
   ],
   "source": [
    "np.zeros(3)"
   ]
  },
  {
   "cell_type": "code",
   "execution_count": 66,
   "metadata": {},
   "outputs": [
    {
     "data": {
      "text/plain": [
       "array([[ 0.00000000e+00,  1.22530698e-06],\n",
       "       [ 3.00000000e+00,  2.99906270e+00],\n",
       "       [ 2.00000000e-01,  1.99996927e-01],\n",
       "       [ 3.00000000e-01,  2.99819457e-01],\n",
       "       [ 0.00000000e+00,  1.31488886e-11],\n",
       "       [ 9.00000000e-01,  8.99244457e-01],\n",
       "       [ 0.00000000e+00,  7.52374822e-04],\n",
       "       [ 0.00000000e+00,  3.07329653e-06],\n",
       "       [ 0.00000000e+00,  1.58151851e-08],\n",
       "       [ 0.00000000e+00,  3.87534565e-09],\n",
       "       [ 0.00000000e+00,  1.40608429e-13],\n",
       "       [ 0.00000000e+00,  1.80523485e-04],\n",
       "       [ 2.00000000e+00,  1.99999992e+00],\n",
       "       [ 1.00000000e+01,  2.27732851e+01],\n",
       "       [ 2.00000000e+00,  6.26155289e-02],\n",
       "       [ 2.00000000e+00,  1.80320335e-04],\n",
       "       [ 2.00000000e+00,  1.07352511e-01],\n",
       "       [ 0.00000000e+00,  3.72669962e-01],\n",
       "       [ 0.00000000e+00,  3.85246695e-06],\n",
       "       [ 0.00000000e+00,  2.41082308e+01],\n",
       "       [ 0.00000000e+00,  9.59675043e-07],\n",
       "       [ 0.00000000e+00,  1.41181981e-03],\n",
       "       [ 0.00000000e+00, -6.67447630e-01],\n",
       "       [ 0.00000000e+00,  9.18554788e+03],\n",
       "       [ 0.00000000e+00,  3.47813892e-06],\n",
       "       [ 0.00000000e+00,  7.20002053e-02],\n",
       "       [ 0.00000000e+00,  1.73789929e-05],\n",
       "       [ 0.00000000e+00,  3.21775857e-01],\n",
       "       [ 0.00000000e+00,  3.96429533e+01]])"
      ]
     },
     "execution_count": 66,
     "metadata": {},
     "output_type": "execute_result"
    }
   ],
   "source": [
    "solutions\n"
   ]
  },
  {
   "cell_type": "code",
   "execution_count": 189,
   "metadata": {},
   "outputs": [
    {
     "data": {
      "text/plain": [
       "(62,)"
      ]
     },
     "execution_count": 189,
     "metadata": {},
     "output_type": "execute_result"
    }
   ],
   "source": [
    "sol.t.shape"
   ]
  },
  {
   "cell_type": "code",
   "execution_count": null,
   "metadata": {},
   "outputs": [],
   "source": []
  }
 ],
 "metadata": {
  "kernelspec": {
   "display_name": "Python 3.9.13 ('oscillations')",
   "language": "python",
   "name": "python3"
  },
  "language_info": {
   "codemirror_mode": {
    "name": "ipython",
    "version": 3
   },
   "file_extension": ".py",
   "mimetype": "text/x-python",
   "name": "python",
   "nbconvert_exporter": "python",
   "pygments_lexer": "ipython3",
   "version": "3.9.13"
  },
  "orig_nbformat": 4,
  "vscode": {
   "interpreter": {
    "hash": "0ba553ac07e3797aeb3406af30e7e504b77aec9043e6a7c97bb9f6cb7945cf6a"
   }
  }
 },
 "nbformat": 4,
 "nbformat_minor": 2
}
