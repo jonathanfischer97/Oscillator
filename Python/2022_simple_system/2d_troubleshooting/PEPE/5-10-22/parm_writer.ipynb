{
 "cells": [
  {
   "cell_type": "code",
   "execution_count": 10,
   "metadata": {},
   "outputs": [],
   "source": [
    "def write_parms(params, waterbox, iteration):\n",
    "    with open(str(iteration) + 'parms.inp', 'w+') as f:\n",
    "        f.write('start parameters' + '\\n')\n",
    "        f.write('\\t' + 'nItr = 100000000' + '\\n')\n",
    "        f.write('\\t' + 'timeStep = 1' + '\\n')\n",
    "        f.write('\\t' + 'timeWrite = 500' + '\\n')\n",
    "        f.write('\\t' + 'trajWrite = 1000000000' + '\\n')\n",
    "        f.write('\\t' + 'restartWrite = 100000000' + '\\n')\n",
    "        f.write('\\t' + 'checkPoint = 100000000' + '\\n')\n",
    "        f.write('\\t' + 'pdbWrite = 100000000' + '\\n')\n",
    "        f.write('end parameters' + '\\n' + '\\n')\n",
    "       \n",
    "        f.write('start boundaries' + '\\n')\n",
    "        f.write('\\t' + 'WaterBox = ' + str(waterbox) + '\\n')\n",
    "        f.write('end boundaries' + '\\n' + '\\n')\n",
    "\n",
    "        f.write('start molecules' + '\\n')\n",
    "        f.write('\\t' + 'pip2 : ' + str(params[15]) + '(head~U)' + '\\n')\n",
    "        f.write('\\t' + 'ap2 : ' + str(params[20]) + '\\n')\n",
    "        f.write('\\t' + 'kin : ' + str(params[17]) + '\\n')\n",
    "        f.write('\\t' + 'syn : ' + str(params[18]) + '\\n')\n",
    "        f.write('end molecules' + '\\n' + '\\n')\n",
    "\n",
    "        f.write('start reactions' + '\\n')\n",
    "        f.write('\\t' + '### KIN - PIP2 ###' + '\\n')\n",
    "        f.write('\\t' + 'kin(pi) + pip2(head~U) <-> kin(pi!1).pip2(head~U!1)' + '\\n')\n",
    "        f.write('\\t' + 'onRate3Dka = ' + str(params[0]) + '\\n')\n",
    "        f.write('\\t' + 'offRate3Dka = ' + str(params[1]) + '\\n')\n",
    "        f.write('\\t' + 'kcat = ' + str(params[2]) + '\\n')\n",
    "        f.write('\\t' + 'norm1 = [0,0,1]' + '\\n')\n",
    "        f.write('\\t' + 'norm2 = [0,0,1]' + '\\n')\n",
    "        f.write('\\t' + 'assocAngles = [1.5707963, 1.5707963, nan, nan, M_PI]' + '\\n')\n",
    "        f.write('\\t' + 'sigma = ' + str(params[14]) + '\\n')\n",
    "        f.write('\\t' + 'coupledRxnLabel = autoP' + '\\n' + '\\n')\n",
    "\n",
    "        f.write('\\t' + '# KIN autoPhosphorylation #' + '\\n')\n",
    "        f.write('\\t' + 'pip2(head~U) -> pip2(head~P)' + '\\n')\n",
    "        f.write('\\t' + 'rate = 0.0' + '\\n')\n",
    "        f.write('\\t' + 'rxnLabel = autoP' + '\\n' + '\\n')\n",
    "\n",
    "        f.write('\\t' + '#### PIP2 - AP2 ####' + '\\n')\n",
    "        f.write('\\t' + 'pip2(head~P) + ap2(m2muh) <-> pip2(head~P!1).ap2(m2muh!1)' + '\\n')\n",
    "        f.write('\\t' + 'onRate3Dka = ' + str(params[3]) + '\\n')\n",
    "        f.write('\\t' + 'offRate3Dka = ' + str(params[4]) + '\\n')\n",
    "        f.write('\\t' + 'norm1 = [0,0,1]' + '\\n')\n",
    "        f.write('\\t' + 'norm2 = [0,0,1]' + '\\n')\n",
    "        f.write('\\t' + 'assocAngles = [1.5707963, 1.5707963, nan, nan, M_PI]' + '\\n')\n",
    "        f.write('\\t' + 'sigma = ' + str(params[14]) + '\\n' + '\\n')\n",
    "\n",
    "        f.write('\\t' + '### KIN - AP2 ###' + '\\n')\n",
    "        f.write('\\t' + 'kin(ap) + ap2(sy,m2muh!*) <-> kin(ap!1).ap2(sy!1,m2muh!*)' + '\\n')\n",
    "        f.write('\\t' + 'onRate3Dka = ' + str(params[5]) + '\\n')\n",
    "        f.write('\\t' + 'offRate3Dka = ' + str(params[6]) + '\\n')\n",
    "        f.write('\\t' + 'norm1 = [0,0,1]' + '\\n')\n",
    "        f.write('\\t' + 'norm2 = [0,0,1]' + '\\n')\n",
    "        f.write('\\t' + 'assocAngles = [1.5707963, 2.35619, nan, M_PI, M_PI]' + '\\n')\n",
    "        f.write('\\t' + 'sigma = ' + str(params[14]) + '\\n' + '\\n')\n",
    "\n",
    "        f.write('\\t' + '### SYN - AP2 ###' + '\\n')\n",
    "        f.write('\\t' + 'syn(ap) + ap2(sy,m2muh!*) <-> syn(ap!1).ap2(sy!1,m2muh!*)' + '\\n')\n",
    "        f.write('\\t' + 'onRate3Dka = ' + str(params[7]) + '\\n')\n",
    "        f.write('\\t' + 'offRate3Dka = ' + str(params[8]) + '\\n')\n",
    "        f.write('\\t' + 'norm1 = [0,0,1]' + '\\n')\n",
    "        f.write('\\t' + 'norm2 = [0,0,1]' + '\\n')\n",
    "        f.write('\\t' + 'assocAngles = [1.5707963, 2.35619, nan, M_PI, M_PI]' + '\\n')\n",
    "        f.write('\\t' + 'sigma = ' + str(params[14]) + '\\n' + '\\n')\n",
    "\n",
    "        f.write('\\t' + '### SYN - PIP2 ###' + '\\n')\n",
    "        f.write('\\t' + 'syn(pi) + pip2(head~P) <-> syn(pi!1).pip2(head~P!1)' + '\\n')\n",
    "        f.write('\\t' + 'onRate3Dka = ' + str(params[9]) + '\\n')\n",
    "        f.write('\\t' + 'offRate3Dka = ' + str(params[10]) + '\\n')\n",
    "        f.write('\\t' + 'kcat = ' + str(params[11]) + '\\n')\n",
    "        f.write('\\t' + 'norm1 = [0,0,1]' + '\\n')\n",
    "        f.write('\\t' + 'norm2 = [0,0,1]' + '\\n')\n",
    "        f.write('\\t' + 'assocAngles = [1.5707963, 1.5707963, nan, nan, M_PI]' + '\\n')\n",
    "        f.write('\\t' + 'sigma = ' + str(params[14]) + '\\n')\n",
    "        f.write('\\t' + 'coupledRxnLabel = autoU' + '\\n' + '\\n')\n",
    "\n",
    "        f.write('\\t' + '# SYN autoDephosphorylation #' + '\\n')\n",
    "        f.write('\\t' + 'pip2(head~P) -> pip2(head~U)' + '\\n')\n",
    "        f.write('\\t' + 'rate = 0.0' + '\\n')\n",
    "        f.write('\\t' + 'rxnLabel = autoU' + '\\n' + '\\n')\n",
    "\n",
    "        f.write('end reactions')\n",
    "\n",
    "\n",
    "\n",
    "\n"
   ]
  },
  {
   "cell_type": "code",
   "execution_count": 5,
   "metadata": {},
   "outputs": [],
   "source": [
    "params = [0.0095825100204336, 533.5154535824862, 229.65062416788774, 0.34954763302377734, 806.0543775547993, 0.43926757119531457, 264.9966273795712, 0.05370780145262371, 658.5048700223593, 0.2689058868934472, 956.7553496322768, 167.5302847412478, 192253369.33367398, 355.6037896062765, 1.0, 1070.932615488769, 0.0, 106.05407647147625, 170.3012765408367, 0.0, 516.1298364569105, 0.0, 0.0, 0.0, 0.0, 0.0, 0.0]"
   ]
  },
  {
   "cell_type": "code",
   "execution_count": 6,
   "metadata": {},
   "outputs": [],
   "source": [
    "waterbox = [520,520,711]"
   ]
  },
  {
   "cell_type": "code",
   "execution_count": 9,
   "metadata": {},
   "outputs": [],
   "source": [
    "write_parms(params,waterbox,1)"
   ]
  },
  {
   "cell_type": "code",
   "execution_count": 19,
   "metadata": {},
   "outputs": [],
   "source": [
    "def function():\n",
    "    return 1, 2"
   ]
  },
  {
   "cell_type": "code",
   "execution_count": 20,
   "metadata": {},
   "outputs": [
    {
     "data": {
      "text/plain": [
       "(1, 2)"
      ]
     },
     "execution_count": 20,
     "metadata": {},
     "output_type": "execute_result"
    }
   ],
   "source": [
    "function()"
   ]
  },
  {
   "cell_type": "code",
   "execution_count": 21,
   "metadata": {},
   "outputs": [],
   "source": [
    "def function2():\n",
    "    return function()\n"
   ]
  },
  {
   "cell_type": "code",
   "execution_count": 24,
   "metadata": {},
   "outputs": [
    {
     "data": {
      "text/plain": [
       "'2'"
      ]
     },
     "execution_count": 24,
     "metadata": {},
     "output_type": "execute_result"
    }
   ],
   "source": [
    "str(function2()[1])"
   ]
  },
  {
   "cell_type": "code",
   "execution_count": null,
   "metadata": {},
   "outputs": [],
   "source": []
  }
 ],
 "metadata": {
  "interpreter": {
   "hash": "0ba553ac07e3797aeb3406af30e7e504b77aec9043e6a7c97bb9f6cb7945cf6a"
  },
  "kernelspec": {
   "display_name": "Python 3.9.7 ('oscillations')",
   "language": "python",
   "name": "python3"
  },
  "language_info": {
   "codemirror_mode": {
    "name": "ipython",
    "version": 3
   },
   "file_extension": ".py",
   "mimetype": "text/x-python",
   "name": "python",
   "nbconvert_exporter": "python",
   "pygments_lexer": "ipython3",
   "version": "3.9.7"
  },
  "orig_nbformat": 4
 },
 "nbformat": 4,
 "nbformat_minor": 2
}
