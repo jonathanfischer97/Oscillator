{
 "cells": [
  {
   "cell_type": "code",
   "execution_count": 18,
   "metadata": {},
   "outputs": [],
   "source": [
    "import numpy as np\n",
    "import matplotlib.pyplot as plt\n",
    "from scipy.integrate import odeint\n",
    "from numba import njit,jit,typed\n"
   ]
  },
  {
   "cell_type": "code",
   "execution_count": 29,
   "metadata": {},
   "outputs": [],
   "source": [
    "@njit\n",
    "def oscillatorModelOde(Y, t, can): \n",
    "\n",
    "    #V = can[12]\n",
    "    VA = can[12]\n",
    "    #A = V/VA\n",
    "    sigma = 0.001\n",
    "    #y1 = VA/(2*sigma)\n",
    "    \n",
    "    \n",
    "    ka1 = can[0]\n",
    "    kb1 = can[1]\n",
    "    kcat1 = can[2]\n",
    "\n",
    "    ka2 = can[3]\n",
    "    kb2 = can[4]\n",
    "\n",
    "    ka3 = can[5]\n",
    "    kb3 = can[6]\n",
    "\n",
    "    ka4 = can[7]\n",
    "    kb4 = can[8]\n",
    "\n",
    "    ka7 = can[9]\n",
    "    kb7 = can[10]\n",
    "    kcat7 = can[11]\n",
    "\n",
    "    ka5 = can[9]\n",
    "    kb5 = can[10]\n",
    "    kcat5 = can[11]\n",
    "\n",
    "    ka6 = can[0]\n",
    "    kb6 = can[1]\n",
    "    kcat6 = can[2]\n",
    "\n",
    "\n",
    "    # ka6 = can[12] \n",
    "    # kb6 = can[13]\n",
    "    # kcat6 = can[14]\n",
    "\n",
    "    \n",
    "    #initial conditions\n",
    "    L = Y[0]   # make sure in uM\n",
    "    Lp = Y[1]\n",
    "    K = Y[2]\n",
    "    P = Y[3]\n",
    "    LK = Y[4] \n",
    "    A = Y[5]\n",
    "    LpA = Y[6] \n",
    "    LpAK = Y[7] \n",
    "    LpAP = Y[8] \n",
    "    LpAPLp = Y[9] \n",
    "    LpAKL = Y[10] \n",
    "    LpP = Y[11] \n",
    "\n",
    "    dL = (kb1*LK) - (ka1*L*K) + (kcat5*LpAPLp) + (kb6*LpAKL) - ((VA/(2*sigma))*ka6*LpAK*L) + (kcat7*LpP)\n",
    "    dLp = (kcat1*LK) + (kb2*LpA) - (ka2*Lp*A) + (kb5*LpAPLp) - ((VA/(2*sigma))*ka5*Lp*LpAP) + (kcat6*LpAKL) - (ka7*Lp*P) + (kb7*LpP)\n",
    "    dK = (kb1*LK) - (ka1*L*K) + (kcat1*LK) + (kb3*LpAK) - (ka3*LpA*K)\n",
    "    dP = (kb4*LpAP) - (ka4*LpA*P) - (ka7*Lp*P) + (kb7*LpP) + (kcat7*LpP)\n",
    "    dLK = (ka1*L*K) - (kb1*LK) - (kcat1*LK)\n",
    "    dA = (kb2*LpA) - (ka2*Lp*A)\n",
    "    dLpA = (ka2*Lp*A) - (kb2*LpA) + (kb3*LpAK) - (ka3*LpA*K) + (kb4*LpAP) - (ka4*LpA*P)\n",
    "    dLpAK = (ka3*LpA*K) - (kb3*LpAK) + (kb6*LpAKL) - ((VA/(2*sigma))*ka6*LpAK*L) + (kcat6*LpAKL)\n",
    "    dLpAP = (ka4*LpA*P) - (kb4*LpAP) + (kb5*LpAPLp) - ((VA/(2*sigma))*ka5*LpAP*Lp) + (kcat5*LpAPLp)\n",
    "    dLpAPLp = ((VA/(2*sigma))*ka5*LpAP*Lp) - (kb5*LpAPLp) - (kcat5*LpAPLp)\n",
    "    dLpAKL = ((VA/(2*sigma))*ka6*LpAK*L) - (kb6*LpAKL) - (kcat6*LpAKL)\n",
    "    dLpP = (ka7*Lp*P) - (kb7*LpP) - (kcat7*LpP)\n",
    "\n",
    "    #Y[0],Y[1],Y[2],Y[3],Y[4],Y[5],Y[6],Y[7],Y[8],Y[9],Y[10],Y[11] = dL,dLp,dK,dP,dLK,dA,dLpA,dLpAK,dLpAP,dLpAPLp,dLpAKL,dLpP\n",
    "\n",
    "    return([dL, dLp, dK, dP, dLK, dA, dLpA, dLpAK, dLpAP, dLpAPLp, dLpAKL, dLpP])\t\n",
    "    #return Y"
   ]
  },
  {
   "cell_type": "code",
   "execution_count": 30,
   "metadata": {},
   "outputs": [
    {
     "name": "stdout",
     "output_type": "stream",
     "text": [
      "47 ms ± 1.29 ms per loop (mean ± std. dev. of 7 runs, 1 loop each)\n"
     ]
    }
   ],
   "source": [
    "t = np.linspace(0,100,num=10000)\n",
    "\n",
    "candidate = typed.List([0.5399439956871153,\n",
    " 32.49731125365913,\n",
    " 459.0713154241908,\n",
    " 0.6703697205723796,\n",
    " 98.55386776137301,\n",
    " 66.94761309866233,\n",
    " 187.88476784879947,\n",
    " 0.732829082837601,\n",
    " 0.5932803922080772,\n",
    " 0.8833353263653272,\n",
    " 79.8349667706061,\n",
    " 98.51067194455857,\n",
    " 1.21704450980531,\n",
    " 8.973816043747753,\n",
    " 0.6170991018130821,\n",
    " 0.7934153177539267,\n",
    " 2.6856696379362606])\n",
    "\n",
    "initials = [candidate[13],0,candidate[14],\n",
    "            candidate[15],0,candidate[16],0,0,\n",
    "            0,0,0,0]\n",
    "\n",
    "%timeit sol = odeint(oscillatorModelOde,initials,t,args=(candidate,))\n",
    "\n"
   ]
  },
  {
   "cell_type": "code",
   "execution_count": 9,
   "metadata": {},
   "outputs": [],
   "source": [
    "from scipy.special import gamma, airy\n",
    "y1_0 = 1.0 / 3**(2.0/3.0) / gamma(2.0/3.0)\n",
    "y0_0 = -1.0 / 3**(1.0/3.0) / gamma(1.0/3.0)\n",
    "y0 = [y0_0, y1_0]\n",
    "t = np.arange(0, 4.0, 0.01)\n"
   ]
  },
  {
   "cell_type": "code",
   "execution_count": 13,
   "metadata": {},
   "outputs": [
    {
     "name": "stdout",
     "output_type": "stream",
     "text": [
      "101 µs ± 1.69 µs per loop (mean ± std. dev. of 7 runs, 10000 loops each)\n"
     ]
    }
   ],
   "source": [
    "from numba import jit\n",
    "@jit\n",
    "def RHS(y, t):\n",
    "    y[0],y[1] = t*y[1],y[0]\n",
    "    return y\n",
    "\n",
    "%timeit odeint(RHS, y0, t)"
   ]
  },
  {
   "cell_type": "code",
   "execution_count": 21,
   "metadata": {},
   "outputs": [],
   "source": [
    "initials = tf.constant([candidate[13],0.0,candidate[14],candidate[15],0.0,candidate[16],0.0,0.0,0.0,0.0,0.0,0.0])\n",
    "candidate = tf.constant(candidate)\n"
   ]
  },
  {
   "cell_type": "code",
   "execution_count": 32,
   "metadata": {},
   "outputs": [],
   "source": [
    "t_begin = tf.constant(0.0)\n",
    "t_end = tf.constant(100.0)"
   ]
  },
  {
   "cell_type": "code",
   "execution_count": 33,
   "metadata": {},
   "outputs": [],
   "source": [
    "sol = tfp.math.ode.BDF().solve(oscillatorModelOde, t_begin, initials, solution_times=tfp.math.ode.ChosenBySolver(t_end),constants={'can':candidate})"
   ]
  }
 ],
 "metadata": {
  "kernelspec": {
   "display_name": "Python 3.9.13 ('m1')",
   "language": "python",
   "name": "python3"
  },
  "language_info": {
   "codemirror_mode": {
    "name": "ipython",
    "version": 3
   },
   "file_extension": ".py",
   "mimetype": "text/x-python",
   "name": "python",
   "nbconvert_exporter": "python",
   "pygments_lexer": "ipython3",
   "version": "3.9.13"
  },
  "orig_nbformat": 4,
  "vscode": {
   "interpreter": {
    "hash": "97650612f190689b99c6e021287d2f2e8b9034f26a70891df7accfb106e93556"
   }
  }
 },
 "nbformat": 4,
 "nbformat_minor": 2
}
