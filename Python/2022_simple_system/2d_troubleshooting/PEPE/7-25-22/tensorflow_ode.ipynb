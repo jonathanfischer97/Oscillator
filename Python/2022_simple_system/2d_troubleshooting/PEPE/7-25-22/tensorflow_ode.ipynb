{
 "cells": [
  {
   "cell_type": "code",
   "execution_count": 2,
   "metadata": {},
   "outputs": [],
   "source": [
    "import tensorflow as tf\n",
    "import tensorflow_probability as tfp\n",
    "import numpy as np\n",
    "import matplotlib.pyplot as plt"
   ]
  },
  {
   "cell_type": "code",
   "execution_count": 25,
   "metadata": {},
   "outputs": [],
   "source": [
    "@tf.function\n",
    "def oscillatorModelOde(t, Y, can): \n",
    "\n",
    "    #V = can[12]\n",
    "    VA = can[12]\n",
    "    #A = V/VA\n",
    "    sigma = 0.001\n",
    "    #y1 = VA/(2*sigma)\n",
    "    \n",
    "    \n",
    "    ka1 = can[0]\n",
    "    kb1 = can[1]\n",
    "    kcat1 = can[2]\n",
    "\n",
    "    ka2 = can[3]\n",
    "    kb2 = can[4]\n",
    "\n",
    "    ka3 = can[5]\n",
    "    kb3 = can[6]\n",
    "\n",
    "    ka4 = can[7]\n",
    "    kb4 = can[8]\n",
    "\n",
    "    ka7 = can[9]\n",
    "    kb7 = can[10]\n",
    "    kcat7 = can[11]\n",
    "\n",
    "    ka5 = can[9]\n",
    "    kb5 = can[10]\n",
    "    kcat5 = can[11]\n",
    "\n",
    "    ka6 = can[0]\n",
    "    kb6 = can[1]\n",
    "    kcat6 = can[2]\n",
    "\n",
    "\n",
    "    # ka6 = can[12] \n",
    "    # kb6 = can[13]\n",
    "    # kcat6 = can[14]\n",
    "\n",
    "    \n",
    "    #initial conditions\n",
    "    L = Y[0]   # make sure in uM\n",
    "    Lp = Y[1]\n",
    "    K = Y[2]\n",
    "    P = Y[3]\n",
    "    LK = Y[4] \n",
    "    A = Y[5]\n",
    "    LpA = Y[6] \n",
    "    LpAK = Y[7] \n",
    "    LpAP = Y[8] \n",
    "    LpAPLp = Y[9] \n",
    "    LpAKL = Y[10] \n",
    "    LpP = Y[11] \n",
    "\n",
    "    dL = (kb1*LK) - (ka1*L*K) + (kcat5*LpAPLp) + (kb6*LpAKL) - ((VA/(2*sigma))*ka6*LpAK*L) + (kcat7*LpP)\n",
    "    dLp = (kcat1*LK) + (kb2*LpA) - (ka2*Lp*A) + (kb5*LpAPLp) - ((VA/(2*sigma))*ka5*Lp*LpAP) + (kcat6*LpAKL) - (ka7*Lp*P) + (kb7*LpP)\n",
    "    dK = (kb1*LK) - (ka1*L*K) + (kcat1*LK) + (kb3*LpAK) - (ka3*LpA*K)\n",
    "    dP = (kb4*LpAP) - (ka4*LpA*P) - (ka7*Lp*P) + (kb7*LpP) + (kcat7*LpP)\n",
    "    dLK = (ka1*L*K) - (kb1*LK) - (kcat1*LK)\n",
    "    dA = (kb2*LpA) - (ka2*Lp*A)\n",
    "    dLpA = (ka2*Lp*A) - (kb2*LpA) + (kb3*LpAK) - (ka3*LpA*K) + (kb4*LpAP) - (ka4*LpA*P)\n",
    "    dLpAK = (ka3*LpA*K) - (kb3*LpAK) + (kb6*LpAKL) - ((VA/(2*sigma))*ka6*LpAK*L) + (kcat6*LpAKL)\n",
    "    dLpAP = (ka4*LpA*P) - (kb4*LpAP) + (kb5*LpAPLp) - ((VA/(2*sigma))*ka5*LpAP*Lp) + (kcat5*LpAPLp)\n",
    "    dLpAPLp = ((VA/(2*sigma))*ka5*LpAP*Lp) - (kb5*LpAPLp) - (kcat5*LpAPLp)\n",
    "    dLpAKL = ((VA/(2*sigma))*ka6*LpAK*L) - (kb6*LpAKL) - (kcat6*LpAKL)\n",
    "    dLpP = (ka7*Lp*P) - (kb7*LpP) - (kcat7*LpP)\n",
    "\n",
    "    return([dL, dLp, dK, dP, dLK, dA, dLpA, dLpAK, dLpAP, dLpAPLp, dLpAKL, dLpP])\t"
   ]
  },
  {
   "cell_type": "code",
   "execution_count": 19,
   "metadata": {},
   "outputs": [],
   "source": [
    "t = np.linspace(0,100,num=10000)\n",
    "\n",
    "candidate = [0.5399439956871153,\n",
    " 32.49731125365913,\n",
    " 459.0713154241908,\n",
    " 0.6703697205723796,\n",
    " 98.55386776137301,\n",
    " 66.94761309866233,\n",
    " 187.88476784879947,\n",
    " 0.732829082837601,\n",
    " 0.5932803922080772,\n",
    " 0.8833353263653272,\n",
    " 79.8349667706061,\n",
    " 98.51067194455857,\n",
    " 1.21704450980531,\n",
    " 8.973816043747753,\n",
    " 0.6170991018130821,\n",
    " 0.7934153177539267,\n",
    " 2.6856696379362606]\n",
    "\n",
    "initials = [tf.constant(candidate[13]),tf.constant(0.0),tf.constant(candidate[14]),\n",
    "            tf.constant(candidate[15]),tf.constant(0.0),tf.constant(candidate[16]),tf.constant(0.0),tf.constant(0.0),\n",
    "            tf.constant(0.0),tf.constant(0.0),tf.constant(0.0),tf.constant(0.0)]"
   ]
  },
  {
   "cell_type": "code",
   "execution_count": 21,
   "metadata": {},
   "outputs": [],
   "source": [
    "initials = tf.constant([candidate[13],0.0,candidate[14],candidate[15],0.0,candidate[16],0.0,0.0,0.0,0.0,0.0,0.0])\n",
    "candidate = tf.constant(candidate)\n"
   ]
  },
  {
   "cell_type": "code",
   "execution_count": 32,
   "metadata": {},
   "outputs": [],
   "source": [
    "t_begin = tf.constant(0.0)\n",
    "t_end = tf.constant(100.0)"
   ]
  },
  {
   "cell_type": "code",
   "execution_count": 33,
   "metadata": {},
   "outputs": [],
   "source": [
    "sol = tfp.math.ode.BDF().solve(oscillatorModelOde, t_begin, initials, solution_times=tfp.math.ode.ChosenBySolver(t_end),constants={'can':candidate})"
   ]
  }
 ],
 "metadata": {
  "kernelspec": {
   "display_name": "Python 3.9.7 ('oscillations')",
   "language": "python",
   "name": "python3"
  },
  "language_info": {
   "codemirror_mode": {
    "name": "ipython",
    "version": 3
   },
   "file_extension": ".py",
   "mimetype": "text/x-python",
   "name": "python",
   "nbconvert_exporter": "python",
   "pygments_lexer": "ipython3",
   "version": "3.9.7"
  },
  "orig_nbformat": 4,
  "vscode": {
   "interpreter": {
    "hash": "0ba553ac07e3797aeb3406af30e7e504b77aec9043e6a7c97bb9f6cb7945cf6a"
   }
  }
 },
 "nbformat": 4,
 "nbformat_minor": 2
}
