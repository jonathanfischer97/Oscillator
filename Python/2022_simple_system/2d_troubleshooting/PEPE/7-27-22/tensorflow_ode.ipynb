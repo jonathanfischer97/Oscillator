{
 "cells": [
  {
   "cell_type": "code",
   "execution_count": 1,
   "metadata": {},
   "outputs": [
    {
     "name": "stderr",
     "output_type": "stream",
     "text": [
      "2022-07-26 21:51:10.009876: I tensorflow/core/util/util.cc:169] oneDNN custom operations are on. You may see slightly different numerical results due to floating-point round-off errors from different computation orders. To turn them off, set the environment variable `TF_ENABLE_ONEDNN_OPTS=0`.\n"
     ]
    }
   ],
   "source": [
    "import tensorflow as tf\n",
    "import tensorflow_probability as tfp\n",
    "import numpy as np\n",
    "import matplotlib.pyplot as plt"
   ]
  },
  {
   "cell_type": "code",
   "execution_count": 2,
   "metadata": {},
   "outputs": [],
   "source": [
    "@tf.function\n",
    "def oscillatorModelOde(t, Y, can): \n",
    "\n",
    "    #V = can[12]\n",
    "    VA = can[12]\n",
    "    #A = V/VA\n",
    "    sigma = 0.001\n",
    "    #y1 = VA/(2*sigma)\n",
    "    \n",
    "    \n",
    "    ka1 = can[0]\n",
    "    kb1 = can[1]\n",
    "    kcat1 = can[2]\n",
    "\n",
    "    ka2 = can[3]\n",
    "    kb2 = can[4]\n",
    "\n",
    "    ka3 = can[5]\n",
    "    kb3 = can[6]\n",
    "\n",
    "    ka4 = can[7]\n",
    "    kb4 = can[8]\n",
    "\n",
    "    ka7 = can[9]\n",
    "    kb7 = can[10]\n",
    "    kcat7 = can[11]\n",
    "\n",
    "    ka5 = can[9]\n",
    "    kb5 = can[10]\n",
    "    kcat5 = can[11]\n",
    "\n",
    "    ka6 = can[0]\n",
    "    kb6 = can[1]\n",
    "    kcat6 = can[2]\n",
    "\n",
    "\n",
    "    # ka6 = can[12] \n",
    "    # kb6 = can[13]\n",
    "    # kcat6 = can[14]\n",
    "\n",
    "    \n",
    "    #initial conditions\n",
    "    L = Y[0]   # make sure in uM\n",
    "    Lp = Y[1]\n",
    "    K = Y[2]\n",
    "    P = Y[3]\n",
    "    LK = Y[4] \n",
    "    A = Y[5]\n",
    "    LpA = Y[6] \n",
    "    LpAK = Y[7] \n",
    "    LpAP = Y[8] \n",
    "    LpAPLp = Y[9] \n",
    "    LpAKL = Y[10] \n",
    "    LpP = Y[11] \n",
    "\n",
    "    dL = (kb1*LK) - (ka1*L*K) + (kcat5*LpAPLp) + (kb6*LpAKL) - ((VA/(2*sigma))*ka6*LpAK*L) + (kcat7*LpP)\n",
    "    dLp = (kcat1*LK) + (kb2*LpA) - (ka2*Lp*A) + (kb5*LpAPLp) - ((VA/(2*sigma))*ka5*Lp*LpAP) + (kcat6*LpAKL) - (ka7*Lp*P) + (kb7*LpP)\n",
    "    dK = (kb1*LK) - (ka1*L*K) + (kcat1*LK) + (kb3*LpAK) - (ka3*LpA*K)\n",
    "    dP = (kb4*LpAP) - (ka4*LpA*P) - (ka7*Lp*P) + (kb7*LpP) + (kcat7*LpP)\n",
    "    dLK = (ka1*L*K) - (kb1*LK) - (kcat1*LK)\n",
    "    dA = (kb2*LpA) - (ka2*Lp*A)\n",
    "    dLpA = (ka2*Lp*A) - (kb2*LpA) + (kb3*LpAK) - (ka3*LpA*K) + (kb4*LpAP) - (ka4*LpA*P)\n",
    "    dLpAK = (ka3*LpA*K) - (kb3*LpAK) + (kb6*LpAKL) - ((VA/(2*sigma))*ka6*LpAK*L) + (kcat6*LpAKL)\n",
    "    dLpAP = (ka4*LpA*P) - (kb4*LpAP) + (kb5*LpAPLp) - ((VA/(2*sigma))*ka5*LpAP*Lp) + (kcat5*LpAPLp)\n",
    "    dLpAPLp = ((VA/(2*sigma))*ka5*LpAP*Lp) - (kb5*LpAPLp) - (kcat5*LpAPLp)\n",
    "    dLpAKL = ((VA/(2*sigma))*ka6*LpAK*L) - (kb6*LpAKL) - (kcat6*LpAKL)\n",
    "    dLpP = (ka7*Lp*P) - (kb7*LpP) - (kcat7*LpP)\n",
    "\n",
    "    return([dL, dLp, dK, dP, dLK, dA, dLpA, dLpAK, dLpAP, dLpAPLp, dLpAKL, dLpP])\t"
   ]
  },
  {
   "cell_type": "code",
   "execution_count": 3,
   "metadata": {},
   "outputs": [
    {
     "name": "stderr",
     "output_type": "stream",
     "text": [
      "2022-07-26 21:51:18.936760: I tensorflow/core/platform/cpu_feature_guard.cc:193] This TensorFlow binary is optimized with oneAPI Deep Neural Network Library (oneDNN) to use the following CPU instructions in performance-critical operations:  SSE4.1 SSE4.2 AVX AVX2 AVX512F AVX512_VNNI FMA\n",
      "To enable them in other operations, rebuild TensorFlow with the appropriate compiler flags.\n",
      "2022-07-26 21:51:19.486381: I tensorflow/core/common_runtime/gpu/gpu_device.cc:1532] Created device /job:localhost/replica:0/task:0/device:GPU:0 with 2379 MB memory:  -> device: 0, name: Quadro P1000, pci bus id: 0000:65:00.0, compute capability: 6.1\n"
     ]
    }
   ],
   "source": [
    "t = np.linspace(0,100,num=10000)\n",
    "\n",
    "candidate = [0.5399439956871153,\n",
    " 32.49731125365913,\n",
    " 459.0713154241908,\n",
    " 0.6703697205723796,\n",
    " 98.55386776137301,\n",
    " 66.94761309866233,\n",
    " 187.88476784879947,\n",
    " 0.732829082837601,\n",
    " 0.5932803922080772,\n",
    " 0.8833353263653272,\n",
    " 79.8349667706061,\n",
    " 98.51067194455857,\n",
    " 1.21704450980531,\n",
    " 8.973816043747753,\n",
    " 0.6170991018130821,\n",
    " 0.7934153177539267,\n",
    " 2.6856696379362606]\n",
    "\n",
    "initials = [tf.constant(candidate[13]),tf.constant(0.0),tf.constant(candidate[14]),\n",
    "            tf.constant(candidate[15]),tf.constant(0.0),tf.constant(candidate[16]),tf.constant(0.0),tf.constant(0.0),\n",
    "            tf.constant(0.0),tf.constant(0.0),tf.constant(0.0),tf.constant(0.0)]"
   ]
  },
  {
   "cell_type": "code",
   "execution_count": 4,
   "metadata": {},
   "outputs": [],
   "source": [
    "initials = tf.constant([candidate[13],0.0,candidate[14],candidate[15],0.0,candidate[16],0.0,0.0,0.0,0.0,0.0,0.0])\n",
    "candidate = tf.constant(candidate)\n"
   ]
  },
  {
   "cell_type": "code",
   "execution_count": 5,
   "metadata": {},
   "outputs": [],
   "source": [
    "t_begin = tf.constant(0.0)\n",
    "t_end = tf.constant(100.0)"
   ]
  },
  {
   "cell_type": "code",
   "execution_count": 6,
   "metadata": {},
   "outputs": [
    {
     "name": "stderr",
     "output_type": "stream",
     "text": [
      "2022-07-26 21:51:30.290782: I tensorflow/core/util/cuda_solvers.cc:179] Creating GpuSolver handles for stream 0x562b0b77b8c0\n"
     ]
    },
    {
     "name": "stdout",
     "output_type": "stream",
     "text": [
      "WARNING:tensorflow:5 out of the last 5 calls to <function pfor.<locals>.f at 0x7f7e9c0281f0> triggered tf.function retracing. Tracing is expensive and the excessive number of tracings could be due to (1) creating @tf.function repeatedly in a loop, (2) passing tensors with different shapes, (3) passing Python objects instead of tensors. For (1), please define your @tf.function outside of the loop. For (2), @tf.function has reduce_retracing=True option that can avoid unnecessary retracing. For (3), please refer to https://www.tensorflow.org/guide/function#controlling_retracing and https://www.tensorflow.org/api_docs/python/tf/function for  more details.\n",
      "WARNING:tensorflow:6 out of the last 6 calls to <function pfor.<locals>.f at 0x7f7e9c0281f0> triggered tf.function retracing. Tracing is expensive and the excessive number of tracings could be due to (1) creating @tf.function repeatedly in a loop, (2) passing tensors with different shapes, (3) passing Python objects instead of tensors. For (1), please define your @tf.function outside of the loop. For (2), @tf.function has reduce_retracing=True option that can avoid unnecessary retracing. For (3), please refer to https://www.tensorflow.org/guide/function#controlling_retracing and https://www.tensorflow.org/api_docs/python/tf/function for  more details.\n"
     ]
    }
   ],
   "source": [
    "sol = tfp.math.ode.BDF().solve(oscillatorModelOde, t_begin, initials, solution_times=tfp.math.ode.ChosenBySolver(t_end),constants={'can':candidate})"
   ]
  }
 ],
 "metadata": {
  "kernelspec": {
   "display_name": "Python 3.9.7 ('oscillations')",
   "language": "python",
   "name": "python3"
  },
  "language_info": {
   "codemirror_mode": {
    "name": "ipython",
    "version": 3
   },
   "file_extension": ".py",
   "mimetype": "text/x-python",
   "name": "python",
   "nbconvert_exporter": "python",
   "pygments_lexer": "ipython3",
   "version": "3.9.7"
  },
  "orig_nbformat": 4,
  "vscode": {
   "interpreter": {
    "hash": "0ba553ac07e3797aeb3406af30e7e504b77aec9043e6a7c97bb9f6cb7945cf6a"
   }
  }
 },
 "nbformat": 4,
 "nbformat_minor": 2
}
