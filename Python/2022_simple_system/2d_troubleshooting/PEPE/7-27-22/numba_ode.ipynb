{
 "cells": [
  {
   "cell_type": "code",
   "execution_count": 5,
   "metadata": {},
   "outputs": [],
   "source": [
    "import numpy as np\n",
    "import matplotlib.pyplot as plt\n",
    "from scipy.integrate import odeint\n",
    "from numba import njit,jit\n",
    "from numba.typed import List \n"
   ]
  },
  {
   "cell_type": "code",
   "execution_count": 8,
   "metadata": {},
   "outputs": [],
   "source": [
    "@njit\n",
    "def oscillatorModelOde(Y, t, can): \n",
    "\n",
    "    ka1,kb1,kcat1,ka2,kb2,ka3,kb3,ka4,kb4,ka7,kb7,kcat7,VA = can[:13]\n",
    "\n",
    "    ka5,kb5,kcat5 = can[9:12]\n",
    "    ka6,kb6,kcat6 = can[0:3]\n",
    "\n",
    "    #Initial conditions\n",
    "    L,Lp,K,P,LK,A,LpA,LpAK,LpAP,LpAPLp,LpAKL,LpP = Y\n",
    "\n",
    "    sigma = 0.001\n",
    "\n",
    "    dL = (kb1*LK) - (ka1*L*K) + (kcat5*LpAPLp) + (kb6*LpAKL) - ((VA/(2*sigma))*ka6*LpAK*L) + (kcat7*LpP)\n",
    "    dLp = (kcat1*LK) + (kb2*LpA) - (ka2*Lp*A) + (kb5*LpAPLp) - ((VA/(2*sigma))*ka5*Lp*LpAP) + (kcat6*LpAKL) - (ka7*Lp*P) + (kb7*LpP)\n",
    "    dK = (kb1*LK) - (ka1*L*K) + (kcat1*LK) + (kb3*LpAK) - (ka3*LpA*K)\n",
    "    dP = (kb4*LpAP) - (ka4*LpA*P) - (ka7*Lp*P) + (kb7*LpP) + (kcat7*LpP)\n",
    "    dLK = (ka1*L*K) - (kb1*LK) - (kcat1*LK)\n",
    "    dA = (kb2*LpA) - (ka2*Lp*A)\n",
    "    dLpA = (ka2*Lp*A) - (kb2*LpA) + (kb3*LpAK) - (ka3*LpA*K) + (kb4*LpAP) - (ka4*LpA*P)\n",
    "    dLpAK = (ka3*LpA*K) - (kb3*LpAK) + (kb6*LpAKL) - ((VA/(2*sigma))*ka6*LpAK*L) + (kcat6*LpAKL)\n",
    "    dLpAP = (ka4*LpA*P) - (kb4*LpAP) + (kb5*LpAPLp) - ((VA/(2*sigma))*ka5*LpAP*Lp) + (kcat5*LpAPLp)\n",
    "    dLpAPLp = ((VA/(2*sigma))*ka5*LpAP*Lp) - (kb5*LpAPLp) - (kcat5*LpAPLp)\n",
    "    dLpAKL = ((VA/(2*sigma))*ka6*LpAK*L) - (kb6*LpAKL) - (kcat6*LpAKL)\n",
    "    dLpP = (ka7*Lp*P) - (kb7*LpP) - (kcat7*LpP)\n",
    "\n",
    "    #Y[0],Y[1],Y[2],Y[3],Y[4],Y[5],Y[6],Y[7],Y[8],Y[9],Y[10],Y[11] = dL,dLp,dK,dP,dLK,dA,dLpA,dLpAK,dLpAP,dLpAPLp,dLpAKL,dLpP\n",
    "\n",
    "    return([dL, dLp, dK, dP, dLK, dA, dLpA, dLpAK, dLpAP, dLpAPLp, dLpAKL, dLpP])\t\n",
    "    #return Y"
   ]
  },
  {
   "cell_type": "code",
   "execution_count": 10,
   "metadata": {},
   "outputs": [
    {
     "name": "stdout",
     "output_type": "stream",
     "text": [
      "111 ms ± 11.2 ms per loop (mean ± std. dev. of 7 runs, 10 loops each)\n"
     ]
    }
   ],
   "source": [
    "t = np.linspace(0,100,num=10000)\n",
    "\n",
    "candidate = List([0.5399439956871153,\n",
    " 32.49731125365913,\n",
    " 459.0713154241908,\n",
    " 0.6703697205723796,\n",
    " 98.55386776137301,\n",
    " 66.94761309866233,\n",
    " 187.88476784879947,\n",
    " 0.732829082837601,\n",
    " 0.5932803922080772,\n",
    " 0.8833353263653272,\n",
    " 79.8349667706061,\n",
    " 98.51067194455857,\n",
    " 1.21704450980531,\n",
    " 8.973816043747753,\n",
    " 0.6170991018130821,\n",
    " 0.7934153177539267,\n",
    " 2.6856696379362606])\n",
    "\n",
    "initials = [candidate[13],0,candidate[14],\n",
    "            candidate[15],0,candidate[16],0,0,\n",
    "            0,0,0,0]\n",
    "\n",
    "%timeit sol = odeint(oscillatorModelOde,initials,t,args=(candidate,))\n",
    "\n"
   ]
  },
  {
   "cell_type": "code",
   "execution_count": 13,
   "metadata": {},
   "outputs": [
    {
     "data": {
      "text/plain": [
       "array([[8.97381604e+00, 0.00000000e+00, 6.17099102e-01, ...,\n",
       "        0.00000000e+00, 0.00000000e+00, 0.00000000e+00],\n",
       "       [8.94574768e+00, 2.19188299e-02, 6.11119205e-01, ...,\n",
       "        3.52711780e-09, 1.07010152e-05, 4.14390236e-05],\n",
       "       [8.91804870e+00, 4.90428423e-02, 6.11008743e-01, ...,\n",
       "        1.04543559e-07, 8.35393493e-05, 1.35459839e-04],\n",
       "       ...,\n",
       "       [4.31660430e+00, 4.28310057e+00, 5.61027271e-01, ...,\n",
       "        9.36161520e-02, 3.96539406e-02, 1.42345984e-02],\n",
       "       [4.22896774e+00, 4.36805431e+00, 5.60767229e-01, ...,\n",
       "        9.40326127e-02, 3.96781666e-02, 1.45090904e-02],\n",
       "       [4.14225461e+00, 4.45215566e+00, 5.60539695e-01, ...,\n",
       "        9.44506727e-02, 3.96712207e-02, 1.47803955e-02]])"
      ]
     },
     "execution_count": 13,
     "metadata": {},
     "output_type": "execute_result"
    }
   ],
   "source": [
    "sol"
   ]
  },
  {
   "cell_type": "code",
   "execution_count": 9,
   "metadata": {},
   "outputs": [],
   "source": [
    "from scipy.special import gamma, airy\n",
    "y1_0 = 1.0 / 3**(2.0/3.0) / gamma(2.0/3.0)\n",
    "y0_0 = -1.0 / 3**(1.0/3.0) / gamma(1.0/3.0)\n",
    "y0 = [y0_0, y1_0]\n",
    "t = np.arange(0, 4.0, 0.01)\n"
   ]
  },
  {
   "cell_type": "code",
   "execution_count": 13,
   "metadata": {},
   "outputs": [
    {
     "name": "stdout",
     "output_type": "stream",
     "text": [
      "101 µs ± 1.69 µs per loop (mean ± std. dev. of 7 runs, 10000 loops each)\n"
     ]
    }
   ],
   "source": [
    "from numba import jit\n",
    "@jit\n",
    "def RHS(y, t):\n",
    "    y[0],y[1] = t*y[1],y[0]\n",
    "    return y\n",
    "\n",
    "%timeit odeint(RHS, y0, t)"
   ]
  },
  {
   "cell_type": "code",
   "execution_count": 21,
   "metadata": {},
   "outputs": [],
   "source": [
    "initials = tf.constant([candidate[13],0.0,candidate[14],candidate[15],0.0,candidate[16],0.0,0.0,0.0,0.0,0.0,0.0])\n",
    "candidate = tf.constant(candidate)\n"
   ]
  },
  {
   "cell_type": "code",
   "execution_count": 32,
   "metadata": {},
   "outputs": [],
   "source": [
    "t_begin = tf.constant(0.0)\n",
    "t_end = tf.constant(100.0)"
   ]
  },
  {
   "cell_type": "code",
   "execution_count": 33,
   "metadata": {},
   "outputs": [],
   "source": [
    "sol = tfp.math.ode.BDF().solve(oscillatorModelOde, t_begin, initials, solution_times=tfp.math.ode.ChosenBySolver(t_end),constants={'can':candidate})"
   ]
  }
 ],
 "metadata": {
  "kernelspec": {
   "display_name": "Python 3.9.7 ('oscillations')",
   "language": "python",
   "name": "python3"
  },
  "language_info": {
   "codemirror_mode": {
    "name": "ipython",
    "version": 3
   },
   "file_extension": ".py",
   "mimetype": "text/x-python",
   "name": "python",
   "nbconvert_exporter": "python",
   "pygments_lexer": "ipython3",
   "version": "3.9.7"
  },
  "orig_nbformat": 4,
  "vscode": {
   "interpreter": {
    "hash": "0ba553ac07e3797aeb3406af30e7e504b77aec9043e6a7c97bb9f6cb7945cf6a"
   }
  }
 },
 "nbformat": 4,
 "nbformat_minor": 2
}
