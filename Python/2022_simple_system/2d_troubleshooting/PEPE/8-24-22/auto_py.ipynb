{
 "cells": [
  {
   "cell_type": "code",
   "execution_count": 1,
   "metadata": {},
   "outputs": [],
   "source": [
    "from pathlib import Path\n",
    "import os\n",
    "import glob\n",
    "import fileinput\n",
    "import sys\n",
    "import shutil\n",
    "import subprocess"
   ]
  },
  {
   "cell_type": "markdown",
   "metadata": {},
   "source": [
    "## Function to replace line in compare pyscript"
   ]
  },
  {
   "cell_type": "code",
   "execution_count": 40,
   "metadata": {},
   "outputs": [],
   "source": [
    "ODElist = [0.00017231469303004518, 62.0744649226743, 106.20769756077478, 0.0033210781343476934, 1.0389725994826684, 0.20485344945681705, 212.82769039576846, 0.00041246580582216577, 0.09379815810581062, 0.0033210781343476934, 40.78659732051864, 4.434093672504077, 750.0, 0.0, 903.45, 60.23000000000001, 90.345, 0.0, 180.69, 0.0, 0.0, 0.0, 0.0, 0.0, 0.0]"
   ]
  },
  {
   "cell_type": "code",
   "execution_count": 55,
   "metadata": {},
   "outputs": [],
   "source": [
    "def replace_params(file, newparamslist):\n",
    "    with open(file) as f:\n",
    "        flist = f.readlines()\n",
    "        count = 0\n",
    "        for i,line in enumerate(flist):\n",
    "            if '#change' in line:\n",
    "                linesplit = line.split(' ')\n",
    "                old_val = linesplit[4]\n",
    "                flist[i] = line.replace(old_val,str(newparamslist[count]))\n",
    "                count += 1\n",
    "        new_string = \"\".join(flist)\n",
    "\n",
    "    with open('compare.py', 'w') as nf:\n",
    "        nf.write(new_string)"
   ]
  },
  {
   "cell_type": "code",
   "execution_count": 54,
   "metadata": {},
   "outputs": [
    {
     "name": "stdout",
     "output_type": "stream",
     "text": [
      "['', '', '', '', '0.00026340051061908315', ',', '#ka1', '#change', '\\n']\n",
      "0.00026340051061908315\n",
      "['', '', '', '', '43.554791096756745', ',', '#kb1', '#change', '\\n']\n",
      "43.554791096756745\n",
      "['', '', '', '', '61.27678775536862', ',', '#kcat1', '#change', '\\n']\n",
      "61.27678775536862\n",
      "['', '', '', '', '0.0033210781343476934', ',', '#ka2', '#change', '\\n']\n",
      "0.0033210781343476934\n",
      "['', '', '', '', '3.5802008552052027', ',', '#kb2', '#change', '\\n']\n",
      "3.5802008552052027\n",
      "['', '', '', '', '0.20906272570551235', ',', '#ka3', '#change', '\\n']\n",
      "0.20906272570551235\n",
      "['', '', '', '', '411.6059385064102', ',', '#kb3', '#change', '\\n']\n",
      "411.6059385064102\n",
      "['', '', '', '', '0.00032696201068610383', ',', '#ka4', '#change', '\\n']\n",
      "0.00032696201068610383\n",
      "['', '', '', '', '0.7535040872309138', ',', '#kb4', '#change', '\\n']\n",
      "0.7535040872309138\n",
      "['', '', '', '', '0.0033210781343476934', ',', '#ka7', '#change', '\\n']\n",
      "0.0033210781343476934\n",
      "['', '', '', '', '17.402538471956877', ',', '#kb7', '#change', '\\n']\n",
      "17.402538471956877\n",
      "['', '', '', '', '19.17270732908545', ',', '#kcat7', '#change', '\\n']\n",
      "19.17270732908545\n",
      "['', '', '', '', '667.0189117072509', ',', '#y', '#change', '\\n']\n",
      "667.0189117072509\n",
      "['', '', '', '', '0.0', ',', '#L', '#change', '\\n']\n",
      "0.0\n",
      "['', '', '', '', '2710.3500000000004', ',', '#Lp', '#change', '\\n']\n",
      "2710.3500000000004\n",
      "['', '', '', '', '180.69', ',', '#K', '#change', '\\n']\n",
      "180.69\n",
      "['', '', '', '', '240.92000000000004', ',', '#P', '#change', '\\n']\n",
      "240.92000000000004\n",
      "['', '', '', '', '0.0', ',', '#LK', '#change', '\\n']\n",
      "0.0\n",
      "['', '', '', '', '813.105', ',', '#A', '#change', '\\n']\n",
      "813.105\n",
      "['', '', '', '', '0.0', ',', '#Lpa', '#change', '\\n']\n",
      "0.0\n",
      "['', '', '', '', '0.0', ',', '#LpAK', '#change', '\\n']\n",
      "0.0\n",
      "['', '', '', '', '0.0', ',', '#LpAP', '#change', '\\n']\n",
      "0.0\n",
      "['', '', '', '', '0.0', ',', '#LpAPLp', '#change', '\\n']\n",
      "0.0\n",
      "['', '', '', '', '0.0', ',', '#LpAKL', '#change', '\\n']\n",
      "0.0\n",
      "['', '', '', '', '0.0', ']', '#LpP', '#change', '\\n']\n",
      "0.0\n"
     ]
    },
    {
     "data": {
      "text/plain": [
       "2"
      ]
     },
     "execution_count": 54,
     "metadata": {},
     "output_type": "execute_result"
    }
   ],
   "source": [
    "nerdss_path = '/home/local/WIN/jfisch27/Desktop/nerdss_development/Jonathan'\n",
    "\n",
    "counter_file = Path('oscillations_counter.txt')\n",
    "n = int(counter_file.read_text())\n",
    "\n",
    "#newdir = os.path.join(nerdss_path,f'/Oscillator{n}')\n",
    "newdir = nerdss_path + f'/Oscillator{n}_EXPLICIT'\n",
    "prevdir = nerdss_path + f'/Oscillator{n-1}_EXPLICIT'\n",
    "#prevdir = os.path.join(nerdss_path,f'/Oscillator{n-1}')\n",
    "\n",
    "\n",
    "#make new directory in Jonathan with name Oscillator{n}\n",
    "os.mkdir(newdir, mode = 0o777)\n",
    "#copy mol files from prevdir to newdir\n",
    "for mol in glob.iglob(f'{prevdir}/*.mol'):\n",
    "    shutil.copy(mol, f'{newdir}')\n",
    "#os.popen(f'{prevdir}/nerdss_6622 {newdir}')\n",
    "shutil.copy(f'{prevdir}/compare.py', f'{newdir}')\n",
    "\n",
    "#call function to modify python compare script\n",
    "pyscript = f'{newdir}/compare.py'\n",
    "\n",
    "replace_params(pyscript,ODElist)\n",
    "\n",
    "#n += 1 \n",
    "\n",
    "counter_file.write_text(str(n))"
   ]
  },
  {
   "cell_type": "code",
   "execution_count": 5,
   "metadata": {},
   "outputs": [
    {
     "data": {
      "text/plain": [
       "<Popen: returncode: None args: [\"echo 'hi' > child2.txt\"]>"
      ]
     },
     "execution_count": 5,
     "metadata": {},
     "output_type": "execute_result"
    }
   ],
   "source": [
    "subprocess.Popen([\"echo 'hi' > child2.txt\"], shell = True, cwd = \"/home/local/WIN/jfisch27/Desktop\")"
   ]
  }
 ],
 "metadata": {
  "kernelspec": {
   "display_name": "Python 3.9.13 ('oscillations')",
   "language": "python",
   "name": "python3"
  },
  "language_info": {
   "codemirror_mode": {
    "name": "ipython",
    "version": 3
   },
   "file_extension": ".py",
   "mimetype": "text/x-python",
   "name": "python",
   "nbconvert_exporter": "python",
   "pygments_lexer": "ipython3",
   "version": "3.9.13"
  },
  "orig_nbformat": 4,
  "vscode": {
   "interpreter": {
    "hash": "0ba553ac07e3797aeb3406af30e7e504b77aec9043e6a7c97bb9f6cb7945cf6a"
   }
  }
 },
 "nbformat": 4,
 "nbformat_minor": 2
}
