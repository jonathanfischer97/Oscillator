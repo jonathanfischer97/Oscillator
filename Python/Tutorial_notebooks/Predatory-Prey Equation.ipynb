{
 "cells": [
  {
   "cell_type": "code",
   "execution_count": 5,
   "metadata": {},
   "outputs": [
    {
     "data": {
      "image/png": "[encoded data removed]",
      "text/plain": [
       "<Figure size 432x288 with 2 Axes>"
      ]
     },
     "metadata": {
      "needs_background": "light"
     },
     "output_type": "display_data"
    }
   ],
   "source": [
    "import numpy as np\n",
    "import matplotlib\n",
    "# matplotlib.use('tkagg')\n",
    "import matplotlib.pyplot as plt\n",
    "from scipy.integrate import odeint\n",
    "\n",
    "\n",
    "initial_populations = [10,1] # [prey, predators] units in hundreds\n",
    "\n",
    "# Create a timeline from 0 to 50 divided into a thousand steps\n",
    "t = np.linspace(0,50,num=1000)\n",
    "\n",
    "# Set rates that lead to periodicity\n",
    "####################################\n",
    "prey_growth_rate = 1.1 #natural prey growth rate\n",
    "prey_death_rate = 0.4 #of all pred/prey pairs (their multiple), how much prey death?\n",
    "predator_growth_rate = 0.1 #of all pred/prey pairs (their multiple), how much predator growth?\n",
    "predator_death_rate = 0.4 #natural pred death rate\n",
    "\n",
    "# There actually is a steady state (other than [0,0])\n",
    "# initial_populations = [predator_death_rate/predator_growth_rate , prey_growth_rate/prey_death_rate] # [prey, predators] units in hundreds\n",
    "\n",
    "\n",
    "params = [prey_growth_rate, prey_death_rate, predator_growth_rate, predator_death_rate]\n",
    "\n",
    "# Calculates current population change rates for current timestep\n",
    "#################################################################\n",
    "def calculate_current_population_change_rates(current_counts, t, params):\n",
    "\n",
    "    # prey population level\n",
    "    prey_count = current_counts[0]\n",
    "\n",
    "    # predatory population level\n",
    "    predator_count = current_counts[1]\n",
    "\n",
    "\n",
    "    prey_growth_rate = params[0]\n",
    "    prey_death_rate = params[1]\n",
    "    predator_growth_rate = params[2]\n",
    "    predator_death_rate = params[3]\n",
    "\n",
    "    dxdt = (prey_growth_rate * prey_count) - (prey_death_rate * prey_count * predator_count)\n",
    "    dydt = (predator_growth_rate * prey_count * predator_count) - (predator_death_rate * predator_count)\n",
    "\n",
    "    return([dxdt, dydt])\n",
    "\n",
    "# Repeatedly calls 'calculate_current_population_change_rates' for every time step and solves numerically to get the population numbers\n",
    "solutions = odeint(calculate_current_population_change_rates, initial_populations, t, args=(params,))\n",
    "\n",
    "#Plot the two population counts over time\n",
    "#########################################\n",
    "f,(prey,predator) = plt.subplots(2)\n",
    "\n",
    "line1, = prey.plot(t,solutions[:,0], color=\"b\")\n",
    "line2, = predator.plot(t,solutions[:,1], color=\"r\")\n",
    "\n",
    "prey.set_ylabel(\"A\")\n",
    "predator.set_ylabel(\"B\")\n",
    "predator.set_xlabel(\"Time\")\n",
    "\n",
    "plt.show()\n",
    "f.savefig('pred_prey.png')"
   ]
  },
  {
   "cell_type": "code",
   "execution_count": 3,
   "metadata": {},
   "outputs": [
    {
     "name": "stderr",
     "output_type": "stream",
     "text": [
      "/Users/jonathanfischer/opt/anaconda3/lib/python3.8/site-packages/scipy/integrate/odepack.py:247: ODEintWarning: Excess work done on this call (perhaps wrong Dfun type). Run with full_output = 1 to get quantitative information.\n",
      "  warnings.warn(warning_msg, ODEintWarning)\n"
     ]
    },
    {
     "data": {
      "image/png": "[encoded data removed]",
      "text/plain": [
       "<Figure size 432x288 with 2 Axes>"
      ]
     },
     "metadata": {
      "needs_background": "light"
     },
     "output_type": "display_data"
    }
   ],
   "source": [
    "import numpy as np\n",
    "import matplotlib\n",
    "# matplotlib.use('tkagg')\n",
    "import matplotlib.pyplot as plt\n",
    "from scipy.integrate import odeint\n",
    "\n",
    "\n",
    "initial_populations = [10,20,5,8] # [prey, predators] units in hundreds\n",
    "\n",
    "# Create a timeline from 0 to 50 divided into a thousand steps\n",
    "t = np.linspace(0,50,num=1000)\n",
    "\n",
    "# Set rates that lead to periodicity\n",
    "####################################\n",
    "Lp_forward_rate = 1.1 #natural prey growth rate\n",
    "Lp_reverse_rate = 0.4 #of all pred/prey pairs (their multiple), how much prey death?\n",
    "AP_forward_rate = 0.1 #of all pred/prey pairs (their multiple), how much predator growth?\n",
    "AP_reverse_rate = 0.4 #natural pred death rate\n",
    "A_forward_rate = 0.5 #of all pred/prey pairs (their multiple), how much predator growth?\n",
    "A_reverse_rate = 0.2 #natural pred death rate\n",
    "A_destruct = 1\n",
    "\n",
    "#Enzyme counts\n",
    "K_count = 10\n",
    "P_count = 5\n",
    "\n",
    "# There actually is a steady state (other than [0,0])\n",
    "# initial_populations = [predator_death_rate/predator_growth_rate , prey_growth_rate/prey_death_rate] # [prey, predators] units in hundreds\n",
    "\n",
    "\n",
    "params = [Lp_forward_rate, Lp_reverse_rate, AP_forward_rate, AP_reverse_rate, A_forward_rate, A_reverse_rate,\n",
    "         A_destruct, K_count, P_count]\n",
    "\n",
    "# Calculates current population change rates for current timestep\n",
    "#################################################################\n",
    "def calculate_current_population_change_rates(current_counts, t, params):\n",
    "\n",
    "    # Lp population level\n",
    "    Lp = current_counts[0]\n",
    "\n",
    "    # L population level\n",
    "    L = current_counts[1]\n",
    "    \n",
    "    # AP population level\n",
    "    AP = current_counts[2]\n",
    "    \n",
    "    #A population level\n",
    "    A = current_counts[3]\n",
    "\n",
    "\n",
    "    kf = params[0]\n",
    "    kr = params[1]\n",
    "    ka1 = params[2]\n",
    "    kb1 = params[3]\n",
    "    ka2 = params[4]\n",
    "    kb2 = params[5]\n",
    "    k_death = params[6]\n",
    "    K = params[7]\n",
    "    P = params[8]\n",
    "    \n",
    "    Lp_diff = (kf*L*K) - (kr*Lp*AP)\n",
    "    L_diff = (kr*Lp*AP) - (kf*L*K)\n",
    "    AP_diff = (ka1*A*P) - (kb1*AP)\n",
    "    A_diff = (ka2*L*Lp) - (kb2*(Lp**2)) - (k_death*A)\n",
    "\n",
    "    #dxdt = (prey_growth_rate * prey_count) - (prey_death_rate * prey_count * predator_count)\n",
    "    #dydt = (predator_growth_rate * prey_count * predator_count) - (predator_death_rate * predator_count)\n",
    "\n",
    "    return([Lp_diff, L_diff, AP_diff, A_diff])\n",
    "\n",
    "# Repeatedly calls 'calculate_current_population_change_rates' for every time step and solves numerically to get the population numbers\n",
    "solutions = odeint(calculate_current_population_change_rates, initial_populations, t, args=(params,))\n",
    "\n",
    "#Plot the two population counts over time\n",
    "#########################################\n",
    "f,(Lp,L) = plt.subplots(2)\n",
    "\n",
    "line1, = Lp.plot(t,solutions[:,0], color=\"b\")\n",
    "line2, = L.plot(t,solutions[:,1], color=\"r\")\n",
    "\n",
    "Lp.set_ylabel(\"Lp\")\n",
    "L.set_ylabel(\"L\")\n",
    "L.set_xlabel(\"Time\")\n",
    "\n",
    "plt.show()"
   ]
  },
  {
   "cell_type": "code",
   "execution_count": null,
   "metadata": {},
   "outputs": [],
   "source": []
  }
 ],
 "metadata": {
  "kernelspec": {
   "display_name": "Python 3",
   "language": "python",
   "name": "python3"
  },
  "language_info": {
   "codemirror_mode": {
    "name": "ipython",
    "version": 3
   },
   "file_extension": ".py",
   "mimetype": "text/x-python",
   "name": "python",
   "nbconvert_exporter": "python",
   "pygments_lexer": "ipython3",
   "version": "3.8.8"
  }
 },
 "nbformat": 4,
 "nbformat_minor": 4
}
